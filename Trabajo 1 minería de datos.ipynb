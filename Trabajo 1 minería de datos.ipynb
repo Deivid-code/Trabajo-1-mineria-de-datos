{
 "cells": [
  {
   "cell_type": "markdown",
   "metadata": {},
   "source": [
    "# Librerías"
   ]
  },
  {
   "cell_type": "code",
   "execution_count": 180,
   "metadata": {},
   "outputs": [],
   "source": [
    "import pandas as pd\n",
    "import numpy as np\n",
    "\n",
    "# Para hacer resumen del df\n",
    "from summarytools import dfSummary\n",
    "\n",
    "# Estadísticas\n",
    "from statistics import median\n",
    "from scipy.stats import zscore\n",
    "from pyod.models.mad import MAD\n",
    "from scipy.stats import median_abs_deviation\n",
    "from scipy.spatial import distance # Para distancia de Mahalanobis\n",
    "\n",
    "# scikit-learn\n",
    "from sklearn.neighbors import LocalOutlierFactor\n",
    "from sklearn.ensemble import IsolationForest\n",
    "\n",
    "# Para graficar\n",
    "import matplotlib.pyplot as plt\n",
    "import seaborn as sns"
   ]
  },
  {
   "cell_type": "markdown",
   "metadata": {},
   "source": [
    "# 1. A partir del dataset ruidoso.txt realice los siguientes análisis:"
   ]
  },
  {
   "cell_type": "markdown",
   "metadata": {},
   "source": [
    "## a. Cargue y explore el dataset explicando en qué consiste y las características que posee el mismo."
   ]
  },
  {
   "cell_type": "code",
   "execution_count": 181,
   "metadata": {},
   "outputs": [],
   "source": [
    "ruidoso = pd.read_csv(\"data/ruidoso.txt\")"
   ]
  },
  {
   "cell_type": "markdown",
   "metadata": {},
   "source": [
    "Se usa la función **read_csv** de pandas para leer la información contenida en el archivo ruidoso.txt, y se guarda esta en un objeto llamado **ruidoso**."
   ]
  },
  {
   "cell_type": "code",
   "execution_count": 182,
   "metadata": {},
   "outputs": [
    {
     "data": {
      "text/html": [
       "<style type=\"text/css\">\n",
       "#T_cd4c9 thead>tr>th {\n",
       "  text-align: left;\n",
       "}\n",
       "#T_cd4c9_row0_col0, #T_cd4c9_row1_col0, #T_cd4c9_row2_col0, #T_cd4c9_row3_col0, #T_cd4c9_row4_col0 {\n",
       "  text-align: left;\n",
       "  font-size: 12px;\n",
       "  vertical-align: middle;\n",
       "  width: 5%;\n",
       "  max-width: 50px;\n",
       "  min-width: 20px;\n",
       "}\n",
       "#T_cd4c9_row0_col1, #T_cd4c9_row1_col1, #T_cd4c9_row2_col1, #T_cd4c9_row3_col1, #T_cd4c9_row4_col1 {\n",
       "  text-align: left;\n",
       "  font-size: 12px;\n",
       "  vertical-align: middle;\n",
       "  width: 15%;\n",
       "  max-width: 200px;\n",
       "  min-width: 100px;\n",
       "  word-break: break-word;\n",
       "}\n",
       "#T_cd4c9_row0_col2, #T_cd4c9_row1_col2, #T_cd4c9_row2_col2, #T_cd4c9_row3_col2, #T_cd4c9_row4_col2 {\n",
       "  text-align: left;\n",
       "  font-size: 12px;\n",
       "  vertical-align: middle;\n",
       "  width: 30%;\n",
       "  min-width: 100px;\n",
       "}\n",
       "#T_cd4c9_row0_col3, #T_cd4c9_row1_col3, #T_cd4c9_row2_col3, #T_cd4c9_row3_col3, #T_cd4c9_row4_col3 {\n",
       "  text-align: left;\n",
       "  font-size: 12px;\n",
       "  vertical-align: middle;\n",
       "  width: 25%;\n",
       "  min-width: 100px;\n",
       "}\n",
       "#T_cd4c9_row0_col4, #T_cd4c9_row1_col4, #T_cd4c9_row2_col4, #T_cd4c9_row3_col4, #T_cd4c9_row4_col4 {\n",
       "  text-align: left;\n",
       "  font-size: 12px;\n",
       "  vertical-align: middle;\n",
       "  width: 20%;\n",
       "  min-width: 150px;\n",
       "}\n",
       "#T_cd4c9_row0_col5, #T_cd4c9_row1_col5, #T_cd4c9_row2_col5, #T_cd4c9_row3_col5, #T_cd4c9_row4_col5 {\n",
       "  text-align: left;\n",
       "  font-size: 12px;\n",
       "  vertical-align: middle;\n",
       "  width: 10%;\n",
       "}\n",
       "</style>\n",
       "<table id=\"T_cd4c9\">\n",
       "  <caption><strong>Data Frame Summary</strong><br>ruidoso<br>Dimensions: 66 x 5<br>Duplicates: 0</caption>\n",
       "  <thead>\n",
       "    <tr>\n",
       "      <th id=\"T_cd4c9_level0_col0\" class=\"col_heading level0 col0\" >No</th>\n",
       "      <th id=\"T_cd4c9_level0_col1\" class=\"col_heading level0 col1\" >Variable</th>\n",
       "      <th id=\"T_cd4c9_level0_col2\" class=\"col_heading level0 col2\" >Stats / Values</th>\n",
       "      <th id=\"T_cd4c9_level0_col3\" class=\"col_heading level0 col3\" >Freqs / (% of Valid)</th>\n",
       "      <th id=\"T_cd4c9_level0_col4\" class=\"col_heading level0 col4\" >Graph</th>\n",
       "      <th id=\"T_cd4c9_level0_col5\" class=\"col_heading level0 col5\" >Missing</th>\n",
       "    </tr>\n",
       "  </thead>\n",
       "  <tbody>\n",
       "    <tr>\n",
       "      <td id=\"T_cd4c9_row0_col0\" class=\"data row0 col0\" >1</td>\n",
       "      <td id=\"T_cd4c9_row0_col1\" class=\"data row0 col1\" ><strong>Unnamed: 0</strong><br>[int64]</td>\n",
       "      <td id=\"T_cd4c9_row0_col2\" class=\"data row0 col2\" >Mean (sd) : 33.5 (19.2)<br>min < med < max:<br>1.0 < 33.5 < 66.0<br>IQR (CV) : 32.5 (1.7)</td>\n",
       "      <td id=\"T_cd4c9_row0_col3\" class=\"data row0 col3\" >66 distinct values</td>\n",
       "      <td id=\"T_cd4c9_row0_col4\" class=\"data row0 col4\" ><img src = \"data:image/png;base64, iVBORw0KGgoAAAANSUhEUgAAAKoAAABGCAYAAABc8A97AAAAOXRFWHRTb2Z0d2FyZQBNYXRwbG90bGliIHZlcnNpb24zLjUuMiwgaHR0cHM6Ly9tYXRwbG90bGliLm9yZy8qNh9FAAAACXBIWXMAAA9hAAAPYQGoP6dpAAACR0lEQVR4nO3Zu47aUBhF4f9wk7nIFkKBjmbKSClc8hB52DxCCp6AIk0qOiSEjPCMhTFOk6Qc8HEcz5bXV3PYFlozCNuVZWnAR9dr+wKAZwwevcA5Nzazkef7X8uyfPM828ntmrttb/fM7O559t3rfjdU59x4sVh8DcNw7rN8Pp9PzrlvPh9cF7fr7ra5XRTFME3Tl9ls9rPX6+VVzz+67kf/UUdhGM43m81bFEVZleEkSYLtdjs/Ho8jM/P5C+/itvdu29v7/X6+2+0+xXH8Y7Vanaqcfea6H371m5lFUZQtl8vXKuO/jT3OdH67xm5r26fTaWxmNp1OG/nM+DEFCYQKCYQKCYQKCYQKCYQKCU/dnvJVFMXQzELnnM/x8H6/Dzu2XWu37e0mNRZqmqbDPM+/rNfrfr/fr3wDOc/zoCiKz1mWfTezSvflVLfr7La93bTGQr1er4MgCCZxHGdVn1SY/X3SMbndbv2ubNfZbXu7aY1+9Zv5P6n486SjS9v/Yrft7abwYwoSCBUSCBUSCBUSCBUSCBUSCBUSCBUSCBUSCBUSCBUSCBUSCBUSCBUSCBUSCBUSCBUSCBUSCBUSCBUSCBUSCBUSCBUSCBUSCBUSCBUSCBUSCBUSCBUSCBUSCBUSCBUSCBUSCBUSCBUSCBUSCBUSCBUSCBUSCBUSCBUSCBUSCBUSCBUSCBUSCBUSCBUSCBUSCBUSCBUSCBUSCBUSCBUSBs+8KEmSoOobXy6XwMwsTdPgcDhM/ud51W3V6657/pm+fgFCZ6mynxud/gAAAABJRU5ErkJggg==\"></img></td>\n",
       "      <td id=\"T_cd4c9_row0_col5\" class=\"data row0 col5\" >0<br>(0.0%)</td>\n",
       "    </tr>\n",
       "    <tr>\n",
       "      <td id=\"T_cd4c9_row1_col0\" class=\"data row1 col0\" >2</td>\n",
       "      <td id=\"T_cd4c9_row1_col1\" class=\"data row1 col1\" ><strong>Road_55dB</strong><br>[int64]</td>\n",
       "      <td id=\"T_cd4c9_row1_col2\" class=\"data row1 col2\" >Mean (sd) : 159228.8 (484751.3)<br>min < med < max:<br>7600.0 < 37550.0 < 3108200.0<br>IQR (CV) : 59950.0 (0.3)</td>\n",
       "      <td id=\"T_cd4c9_row1_col3\" class=\"data row1 col3\" >61 distinct values</td>\n",
       "      <td id=\"T_cd4c9_row1_col4\" class=\"data row1 col4\" ><img src = \"data:image/png;base64, iVBORw0KGgoAAAANSUhEUgAAAKoAAABGCAYAAABc8A97AAAAOXRFWHRTb2Z0d2FyZQBNYXRwbG90bGliIHZlcnNpb24zLjUuMiwgaHR0cHM6Ly9tYXRwbG90bGliLm9yZy8qNh9FAAAACXBIWXMAAA9hAAAPYQGoP6dpAAAB40lEQVR4nO3XsU7CUBSH8XNEsUTpDUUZeQBMfAB2HX1YV3dWBl+CpZFWY4kNuW4uJmIvGvzH7zf33HuTfm1TjzEa8NcdHfoAwHcc77rA3Qdm1k9c/y3G2CTOAh++DNXdB+Px+C7P81HK4nVdP7n7PbFiX7veqP08z0fz+bwJIWy6LFxVVbZYLEZlWfbNjFCxl52ffjOzEMJmMpm8Jqw/SJgBPuFnChIIFRIIFRIIFRIIFRIIFRIIFRIIFRIIFRIIFRIIFRIIFRIIFRIIFRIIFRIIFRIIFRIIFRIIFRIIFRIIFRIIFRIIFRIIFRIIFRIIFRIIFRIIFRIIFRIIFRIIFRIIFRIIFRIIFRIIFRIIFRIIFRIIFRIIFRIIFRIIFRIIFRIIFRIIFRIIFRIIFRIIFRIIFRIIFRIIFRIIFRIIFRIIFRIIFRIIFRIIFRIIFRIIFRIIFRIIFRIIFRKOD32Ar7j7wMz6ieNvMcbmJ8+Dw/nVULfb7YmZ5e6eMp4VRXEbQjhLGa7r+snd7/9brId8uH9z72+FWlVV1nXX1Wo1bNv2ejqd9nq93qbrfNu2mZldzWazx+Fw+Nxltmma0+VyeVmW5YW71133FpYVRXETQjhPGV6v1y/u/mBmne/XvnvverG8A+3sY8cpONmSAAAAAElFTkSuQmCC\"></img></td>\n",
       "      <td id=\"T_cd4c9_row1_col5\" class=\"data row1 col5\" >0<br>(0.0%)</td>\n",
       "    </tr>\n",
       "    <tr>\n",
       "      <td id=\"T_cd4c9_row2_col0\" class=\"data row2 col0\" >3</td>\n",
       "      <td id=\"T_cd4c9_row2_col1\" class=\"data row2 col1\" ><strong>Road_60dB</strong><br>[int64]</td>\n",
       "      <td id=\"T_cd4c9_row2_col2\" class=\"data row2 col2\" >Mean (sd) : 78587.9 (251409.0)<br>min < med < max:<br>4000.0 < 17400.0 < 1469100.0<br>IQR (CV) : 24425.0 (0.3)</td>\n",
       "      <td id=\"T_cd4c9_row2_col3\" class=\"data row2 col3\" >63 distinct values</td>\n",
       "      <td id=\"T_cd4c9_row2_col4\" class=\"data row2 col4\" ><img src = \"data:image/png;base64, iVBORw0KGgoAAAANSUhEUgAAAKoAAABGCAYAAABc8A97AAAAOXRFWHRTb2Z0d2FyZQBNYXRwbG90bGliIHZlcnNpb24zLjUuMiwgaHR0cHM6Ly9tYXRwbG90bGliLm9yZy8qNh9FAAAACXBIWXMAAA9hAAAPYQGoP6dpAAAB80lEQVR4nO3XQW7aQBiG4f8vqYNVmJFxw5IDUIkDcIAuc9gcgi0SvQSbUWRXqmlc5O66aQXxpGn6Se+z5huP5FcgfBgGA/537976AsBz3Fz7gLuXZlZknv80DEOXuQV+uRiqu5d1Xd+HEKqcw9u2fXT3B2LFS137Ri1CCNV2u+1ijKcxBzdNM93tdlVKqTAzQsWLXP3pNzOLMZ6Wy+W3jPPLjA3wG/5MQQKhQgKhQgKhQgKhQgKhQgKhQgKhQgKhQgKhQgKhQgKhQgKhQgKhQgKhQgKhQgKhQgKhQgKhQgKhQgKhQgKhQgKhQgKhQgKhQgKhQgKhQgKhQgKhQgKhQgKhQgKhQgKhQgKhQgKhQgKhQgKhQgKhQgKhQgKhQgKhQgKhQgKhQgKhQgKhQgKhQgKhQgKhQgKhQgKhQgKhQgKhQgKhQgKhQgKhQgKhQgKhQgKhQgKhQgKhQgKhQsLNW1/gEncvzazInD8Nw9D9zfvgstd8X68a6vl8fm9mwd1z5tPFYvE5xvghZ9y27aO7PxDrv+HuZV3X9yGEKmd/7X09K9SmaaZjH3w8Hud9329Wq9VkMpmcxu77vp+a2af1ev1lPp9/HbPtuu52v9/fpZQ+uns79tnIEmaz2d1ms/lRluX3McOu624Ph0OVUirM7I+h/gS4/GS7jFUA0wAAAABJRU5ErkJggg==\"></img></td>\n",
       "      <td id=\"T_cd4c9_row2_col5\" class=\"data row2 col5\" >0<br>(0.0%)</td>\n",
       "    </tr>\n",
       "    <tr>\n",
       "      <td id=\"T_cd4c9_row3_col0\" class=\"data row3 col0\" >4</td>\n",
       "      <td id=\"T_cd4c9_row3_col1\" class=\"data row3 col1\" ><strong>Railways_65dB</strong><br>[int64]</td>\n",
       "      <td id=\"T_cd4c9_row3_col2\" class=\"data row3 col2\" >Mean (sd) : 1139.4 (4778.8)<br>min < med < max:<br>0.0 < 100.0 < 29700.0<br>IQR (CV) : 400.0 (0.2)</td>\n",
       "      <td id=\"T_cd4c9_row3_col3\" class=\"data row3 col3\" >18 distinct values</td>\n",
       "      <td id=\"T_cd4c9_row3_col4\" class=\"data row3 col4\" ><img src = \"data:image/png;base64, iVBORw0KGgoAAAANSUhEUgAAAKoAAABGCAYAAABc8A97AAAAOXRFWHRTb2Z0d2FyZQBNYXRwbG90bGliIHZlcnNpb24zLjUuMiwgaHR0cHM6Ly9tYXRwbG90bGliLm9yZy8qNh9FAAAACXBIWXMAAA9hAAAPYQGoP6dpAAABpUlEQVR4nO3XQWrbUBSG0feMa2wwErbBG+guPM+0i80ivIsuwQQJXIcEVZ11ElLHMjT54ZypdK/e4ENCdRzHAl/d7LMPAB8xv3ZDrXVVSllM3P8yjuNl4iz89c9Qa62r3W73o2mazZTlfd8/1Vofxcq9rr1RF03TbA6Hw6Vt2+dbFnddtzwej5vT6bQopQiVu1z99JdSStu2z/v9/teE/asJM/CGnykiCJUIQiWCUIkgVCIIlQhCJYJQiSBUIgiVCEIlglCJIFQiCJUIQiWCUIkgVCIIlQhCJYJQiSBUIgiVCEIlglCJIFQiCJUIQiWCUIkgVCIIlQhCJYJQiSBUIgiVCEIlglCJIFQiCJUIQiWCUIkgVCIIlQhCJYJQiSBUIgiVCEIlglCJIFQiCJUIQiWCUIkgVCIIlQhCJYJQiSBUIgiVCEIlglCJIFQiCJUI888+AF9HrXVVSlncsWJWSvk9cfZlHMfLexc/FGrXdctbn9p13XIYhnkppam13jrO/7fcbrcPbduupwwPw/DtfD5/X6/XP2ez2eut833fP9VaH9+L9Q//c0Aw9BjlPwAAAABJRU5ErkJggg==\"></img></td>\n",
       "      <td id=\"T_cd4c9_row3_col5\" class=\"data row3 col5\" >0<br>(0.0%)</td>\n",
       "    </tr>\n",
       "    <tr>\n",
       "      <td id=\"T_cd4c9_row4_col0\" class=\"data row4 col0\" >5</td>\n",
       "      <td id=\"T_cd4c9_row4_col1\" class=\"data row4 col1\" ><strong>Industry_65dB</strong><br>[float64]</td>\n",
       "      <td id=\"T_cd4c9_row4_col2\" class=\"data row4 col2\" >1. 0.0<br>2. 100.0<br>3. 300.0<br>4. 200.0<br>5. 400.0<br>6. 1300.0<br>7. 900.0<br>8. 800.0<br>9. 600.0<br>10. 4000.0<br>11. other</td>\n",
       "      <td id=\"T_cd4c9_row4_col3\" class=\"data row4 col3\" >41 (62.1%)<br>8 (12.1%)<br>5 (7.6%)<br>3 (4.5%)<br>3 (4.5%)<br>1 (1.5%)<br>1 (1.5%)<br>1 (1.5%)<br>1 (1.5%)<br>1 (1.5%)<br>1 (1.5%)</td>\n",
       "      <td id=\"T_cd4c9_row4_col4\" class=\"data row4 col4\" ><img src = \"data:image/png;base64, iVBORw0KGgoAAAANSUhEUgAAAJsAAAD+CAYAAAAtWHdlAAAAOXRFWHRTb2Z0d2FyZQBNYXRwbG90bGliIHZlcnNpb24zLjUuMiwgaHR0cHM6Ly9tYXRwbG90bGliLm9yZy8qNh9FAAAACXBIWXMAAA9hAAAPYQGoP6dpAAAD8UlEQVR4nO3dQW7bVgBF0S/BSOuJBMOAl+EFeBFdbBehBXgfhmEOqjQTddCi6MQJqNCXhXnOCj6CGwok/kt2l8tlQGG/9gHYDrGRERsZsZERGxmxkREbGbGRERuZ3RjjdozxZe2DbNi3y+VyXvsQhZv7+/vfDofD3doH2appml53u93vWwju5nA43D09PZ2Px+PXtQ+zNW9vb7+eTqe7l5eXL2OMzx/bGGMcj8evDw8Pf6x9mI26XfsAFS8IZMRGRmxkxEZGbGTERkZsZMRGRmxkxEZGbGTERkZsZMRG5maMv+9VrX2QLdran/vNNE2vp9PpbmzoXtX/yTRNr2OMb2ufo2CDsL7NbBB2/sksKks/2Tbzt5T5Fl1XbWkpxHyLrau2thRivqXXVd5oeZePumTERkZsZMRGRmxkxEZGbGTERkZsZMRGRmxkxEZGbGQWG7xsbbzBfIsOXrY03mA+18LJGLyQuebJ5unFVWYPXoxauNaswYtRCz/jmsGLUQtX8VGXjNjIiI2M2MiIjYzYyIiNjNjIiI2M2MiIjYzYyIiNzKzBi1ELP2P24MWohWu5Fk7G4IWMFwQyP/oZ9ZPJYr67rrKkYknvrqssqVjaj9ZVllQsxgsCGbGRERsZsZERGxmxkREbGbGRERsZsZERGxmxkREbmXfXVZZULO276ypLKpbkWjgZ6yoynmxkDF7IGLyQMXgh46MuGbGRERsZsZERGxmxkREbGbGRERsZsZERGxmxkREbGYMXMgYvZFwLJ2PwQua/TzZPMT7Uv4MX4xY+2v5wONw9Pj6OfxZWc/4rSJhlP8YYt7e3f659ED4/H3XJiI2M2MiIjYzYyIiNjNjIiI2M2MiIjYzYyIiNjNjIiI3MfowxzufzL2sfhM9vP03T6/PzsyUVH84GgYx1FRlPNjLWVWSsq8hYV5HxUZeM2MiIjYzYyIiNjNjIiI2M2MiIjYzYyIiNjNjIiI2MwQsZgxcyroWTMXgh48lGxuCFjMELGYMXMj7qkhEbGbGRERsZsZERGxmxkREbGbGRERsZsZERGxmxkTF4IWPwQsa1cDIGL2S8IJDxM0rGuoqMdRUZ6yoyXhDIiI2M2MiIjYzYyIiNjNjIiI2M2MiIjYzYyIiNjNjIWFeRsa4i41o4GesqMp5sZAxeyBi8kDF4IeOjLhmxkREbGbGRERsZsZERGxmxkREbGbGRERsZsZERGxmDFzIGL2RcCydj8ELGk42MwQsZgxcyBi9kfNQlIzYyYiMjNjJiIyM2MmIjIzYyYiMjNjJiIyM2MmIjY/BCxuCFjGvhZAxeyHhBICM2MmIjIzYyYiMjNjJiIyM2MmIj8xfS1PQxXcup6wAAAABJRU5ErkJggg==\"></img></td>\n",
       "      <td id=\"T_cd4c9_row4_col5\" class=\"data row4 col5\" >1<br>(1.5%)</td>\n",
       "    </tr>\n",
       "  </tbody>\n",
       "</table>\n"
      ],
      "text/plain": [
       "<pandas.io.formats.style.Styler at 0x2ed0996fa60>"
      ]
     },
     "execution_count": 182,
     "metadata": {},
     "output_type": "execute_result"
    }
   ],
   "source": [
    "dfSummary(ruidoso, is_collapsible=False)"
   ]
  },
  {
   "cell_type": "markdown",
   "metadata": {},
   "source": [
    "A continuación se crea una función de usuario para verificar si una lista de valores son todos consecutivos y distintos entre sí."
   ]
  },
  {
   "cell_type": "code",
   "execution_count": 183,
   "metadata": {},
   "outputs": [
    {
     "name": "stdout",
     "output_type": "stream",
     "text": [
      "Los valores de la variable Unnamed: 0 son diferentes y consecutivos.\n"
     ]
    }
   ],
   "source": [
    "def son_diferentes_consecutivos(lista):\n",
    "    for i in range(len(lista) - 1):\n",
    "        if lista[i] == lista[i + 1]:\n",
    "            return False\n",
    "        if lista[i] + 1 != lista[i + 1]:\n",
    "            return False\n",
    "    return True\n",
    "\n",
    "# Verificar si los valores son diferentes y consecutivos\n",
    "variable = \"Unnamed: 0\"\n",
    "if son_diferentes_consecutivos(ruidoso[variable]):\n",
    "    print(f\"Los valores de la variable {variable} son diferentes y consecutivos.\")\n",
    "else:\n",
    "    print(f\"Los valores de la variable {variable} no son diferentes y consecutivos.\")"
   ]
  },
  {
   "cell_type": "markdown",
   "metadata": {},
   "source": [
    "Las variables en este archivo parecen representar diferentes tipos de ruido (presumiblemente en diferentes áreas o ubicaciones), y los valores numéricos parecen ser mediciones de niveles de ruido en decibelios (dB) en diferentes condiciones ambientales.\n",
    "\n",
    "Una descripción tentativa de las variables podría ser:\n",
    "\n",
    "- Road_55dB: Esta variable parece representar mediciones de ruido provenientes de carreteras con un nivel de 55 decibelios (dB).\n",
    "\n",
    "- Road_60dB: Esta variable parece representar mediciones de ruido provenientes de carreteras con un nivel de 60 decibelios (dB).\n",
    "\n",
    "- Railways_65dB: Esta variable parece representar mediciones de ruido provenientes de ferrocarriles con un nivel de 65 decibelios (dB).\n",
    "\n",
    "- Industry_65dB: Esta variable parece representar mediciones de ruido provenientes de industrias con un nivel de 65 decibelios (dB)."
   ]
  },
  {
   "cell_type": "markdown",
   "metadata": {},
   "source": [
    "Con la ayuda de la función **dfSummary**, se obtiene un resumen del dataframe **ruidoso**. se puede observar que este dataframe tiene una dimensión de 66 filas y 5 columnas, no tiene duplicados y las 5 variables son numéricas, sin embargo, la primera variable **Unnamed: 0** contiene 66 valores distintos que va desde 1 hasta 66 (verificado con la función de usuario), por lo que en realidad esta variable es un índice del dataframe y no una variable como tal. Por último, se puede observar que la variable **Industry_65dB** tiene un valor faltante, y dicho valor faltante está afectando la salida de los estadísticos de resumen tales como la media y la mediana de esta variable, por lo tanto, se usará otra función para conocer los estadísticos de resumen de esta."
   ]
  },
  {
   "cell_type": "code",
   "execution_count": 184,
   "metadata": {},
   "outputs": [
    {
     "data": {
      "text/html": [
       "<div>\n",
       "<style scoped>\n",
       "    .dataframe tbody tr th:only-of-type {\n",
       "        vertical-align: middle;\n",
       "    }\n",
       "\n",
       "    .dataframe tbody tr th {\n",
       "        vertical-align: top;\n",
       "    }\n",
       "\n",
       "    .dataframe thead th {\n",
       "        text-align: right;\n",
       "    }\n",
       "</style>\n",
       "<table border=\"1\" class=\"dataframe\">\n",
       "  <thead>\n",
       "    <tr style=\"text-align: right;\">\n",
       "      <th></th>\n",
       "      <th>Road_55dB</th>\n",
       "      <th>Road_60dB</th>\n",
       "      <th>Railways_65dB</th>\n",
       "      <th>Industry_65dB</th>\n",
       "    </tr>\n",
       "  </thead>\n",
       "  <tbody>\n",
       "    <tr>\n",
       "      <th>1</th>\n",
       "      <td>166400</td>\n",
       "      <td>79200</td>\n",
       "      <td>1100</td>\n",
       "      <td>0.0</td>\n",
       "    </tr>\n",
       "    <tr>\n",
       "      <th>2</th>\n",
       "      <td>20000</td>\n",
       "      <td>11000</td>\n",
       "      <td>0</td>\n",
       "      <td>0.0</td>\n",
       "    </tr>\n",
       "    <tr>\n",
       "      <th>3</th>\n",
       "      <td>37800</td>\n",
       "      <td>18000</td>\n",
       "      <td>0</td>\n",
       "      <td>0.0</td>\n",
       "    </tr>\n",
       "    <tr>\n",
       "      <th>4</th>\n",
       "      <td>24500</td>\n",
       "      <td>16700</td>\n",
       "      <td>0</td>\n",
       "      <td>100.0</td>\n",
       "    </tr>\n",
       "    <tr>\n",
       "      <th>5</th>\n",
       "      <td>103100</td>\n",
       "      <td>33500</td>\n",
       "      <td>1900</td>\n",
       "      <td>200.0</td>\n",
       "    </tr>\n",
       "    <tr>\n",
       "      <th>...</th>\n",
       "      <td>...</td>\n",
       "      <td>...</td>\n",
       "      <td>...</td>\n",
       "      <td>...</td>\n",
       "    </tr>\n",
       "    <tr>\n",
       "      <th>62</th>\n",
       "      <td>20700</td>\n",
       "      <td>16200</td>\n",
       "      <td>0</td>\n",
       "      <td>0.0</td>\n",
       "    </tr>\n",
       "    <tr>\n",
       "      <th>63</th>\n",
       "      <td>15100</td>\n",
       "      <td>9900</td>\n",
       "      <td>0</td>\n",
       "      <td>0.0</td>\n",
       "    </tr>\n",
       "    <tr>\n",
       "      <th>64</th>\n",
       "      <td>24500</td>\n",
       "      <td>12400</td>\n",
       "      <td>300</td>\n",
       "      <td>300.0</td>\n",
       "    </tr>\n",
       "    <tr>\n",
       "      <th>65</th>\n",
       "      <td>12800</td>\n",
       "      <td>8500</td>\n",
       "      <td>0</td>\n",
       "      <td>0.0</td>\n",
       "    </tr>\n",
       "    <tr>\n",
       "      <th>66</th>\n",
       "      <td>3108200</td>\n",
       "      <td>1469100</td>\n",
       "      <td>25800</td>\n",
       "      <td>NaN</td>\n",
       "    </tr>\n",
       "  </tbody>\n",
       "</table>\n",
       "<p>66 rows × 4 columns</p>\n",
       "</div>"
      ],
      "text/plain": [
       "    Road_55dB  Road_60dB  Railways_65dB  Industry_65dB\n",
       "1      166400      79200           1100            0.0\n",
       "2       20000      11000              0            0.0\n",
       "3       37800      18000              0            0.0\n",
       "4       24500      16700              0          100.0\n",
       "5      103100      33500           1900          200.0\n",
       "..        ...        ...            ...            ...\n",
       "62      20700      16200              0            0.0\n",
       "63      15100       9900              0            0.0\n",
       "64      24500      12400            300          300.0\n",
       "65      12800       8500              0            0.0\n",
       "66    3108200    1469100          25800            NaN\n",
       "\n",
       "[66 rows x 4 columns]"
      ]
     },
     "execution_count": 184,
     "metadata": {},
     "output_type": "execute_result"
    }
   ],
   "source": [
    "ruidoso.set_index('Unnamed: 0', drop=True, inplace=True)\n",
    "ruidoso.index.name = None \n",
    "ruidoso"
   ]
  },
  {
   "cell_type": "markdown",
   "metadata": {},
   "source": [
    "Del anterior código, la variable **Unnamed: 0** se transformó en índece."
   ]
  },
  {
   "cell_type": "code",
   "execution_count": 185,
   "metadata": {},
   "outputs": [
    {
     "data": {
      "text/html": [
       "<div>\n",
       "<style scoped>\n",
       "    .dataframe tbody tr th:only-of-type {\n",
       "        vertical-align: middle;\n",
       "    }\n",
       "\n",
       "    .dataframe tbody tr th {\n",
       "        vertical-align: top;\n",
       "    }\n",
       "\n",
       "    .dataframe thead th {\n",
       "        text-align: right;\n",
       "    }\n",
       "</style>\n",
       "<table border=\"1\" class=\"dataframe\">\n",
       "  <thead>\n",
       "    <tr style=\"text-align: right;\">\n",
       "      <th></th>\n",
       "      <th>Road_55dB</th>\n",
       "      <th>Road_60dB</th>\n",
       "      <th>Railways_65dB</th>\n",
       "      <th>Industry_65dB</th>\n",
       "    </tr>\n",
       "  </thead>\n",
       "  <tbody>\n",
       "    <tr>\n",
       "      <th>count</th>\n",
       "      <td>6.600000e+01</td>\n",
       "      <td>6.600000e+01</td>\n",
       "      <td>66.000000</td>\n",
       "      <td>65.000000</td>\n",
       "    </tr>\n",
       "    <tr>\n",
       "      <th>mean</th>\n",
       "      <td>1.592288e+05</td>\n",
       "      <td>7.858788e+04</td>\n",
       "      <td>1139.393939</td>\n",
       "      <td>180.000000</td>\n",
       "    </tr>\n",
       "    <tr>\n",
       "      <th>std</th>\n",
       "      <td>4.847513e+05</td>\n",
       "      <td>2.514090e+05</td>\n",
       "      <td>4778.827625</td>\n",
       "      <td>537.993959</td>\n",
       "    </tr>\n",
       "    <tr>\n",
       "      <th>min</th>\n",
       "      <td>7.600000e+03</td>\n",
       "      <td>4.000000e+03</td>\n",
       "      <td>0.000000</td>\n",
       "      <td>0.000000</td>\n",
       "    </tr>\n",
       "    <tr>\n",
       "      <th>25%</th>\n",
       "      <td>1.895000e+04</td>\n",
       "      <td>1.007500e+04</td>\n",
       "      <td>0.000000</td>\n",
       "      <td>0.000000</td>\n",
       "    </tr>\n",
       "    <tr>\n",
       "      <th>50%</th>\n",
       "      <td>3.755000e+04</td>\n",
       "      <td>1.740000e+04</td>\n",
       "      <td>100.000000</td>\n",
       "      <td>0.000000</td>\n",
       "    </tr>\n",
       "    <tr>\n",
       "      <th>75%</th>\n",
       "      <td>7.890000e+04</td>\n",
       "      <td>3.450000e+04</td>\n",
       "      <td>400.000000</td>\n",
       "      <td>100.000000</td>\n",
       "    </tr>\n",
       "    <tr>\n",
       "      <th>max</th>\n",
       "      <td>3.108200e+06</td>\n",
       "      <td>1.469100e+06</td>\n",
       "      <td>29700.000000</td>\n",
       "      <td>4000.000000</td>\n",
       "    </tr>\n",
       "  </tbody>\n",
       "</table>\n",
       "</div>"
      ],
      "text/plain": [
       "          Road_55dB     Road_60dB  Railways_65dB  Industry_65dB\n",
       "count  6.600000e+01  6.600000e+01      66.000000      65.000000\n",
       "mean   1.592288e+05  7.858788e+04    1139.393939     180.000000\n",
       "std    4.847513e+05  2.514090e+05    4778.827625     537.993959\n",
       "min    7.600000e+03  4.000000e+03       0.000000       0.000000\n",
       "25%    1.895000e+04  1.007500e+04       0.000000       0.000000\n",
       "50%    3.755000e+04  1.740000e+04     100.000000       0.000000\n",
       "75%    7.890000e+04  3.450000e+04     400.000000     100.000000\n",
       "max    3.108200e+06  1.469100e+06   29700.000000    4000.000000"
      ]
     },
     "execution_count": 185,
     "metadata": {},
     "output_type": "execute_result"
    }
   ],
   "source": [
    "ruidoso.describe()"
   ]
  },
  {
   "cell_type": "markdown",
   "metadata": {},
   "source": [
    "Usando la función **describe** se obtiene los estadísticos de resumen para la variable **Industry_65dB** que no se pudo obtener usando la función **dfSummary** debido el valor faltante. De esta forma, se puede observar que la media de estas 4 variables numéricas es mayor a la mediana, por lo que se espera que la distribución de cada una de estas variables sea sesgada hacia la derecha como visto en los histogramas de la función **dfSummary**. También, se puede observar que la variabilidad presente en cada una de estas variables es relativamente alta. Por lo último, también se tiene el mínimo, los percentiles, y el máximo de cada una de las variables."
   ]
  },
  {
   "cell_type": "markdown",
   "metadata": {},
   "source": [
    "## b. Realice un breve análisis exploratorio para identificar la distribución de las variables usadas en la base de datos ¿será que existe relación entre las variables?"
   ]
  },
  {
   "cell_type": "code",
   "execution_count": 186,
   "metadata": {},
   "outputs": [
    {
     "data": {
      "image/png": "[encoded data removed]",
      "text/plain": [
       "<Figure size 1000x1000 with 4 Axes>"
      ]
     },
     "metadata": {},
     "output_type": "display_data"
    }
   ],
   "source": [
    "# Crear una figura y ejes utilizando subplots\n",
    "fig, axes = plt.subplots(2, 2, figsize=(10, 10))\n",
    "\n",
    "# Crear gráficos de distribución para cada variable en la cuadrícula de ejes\n",
    "sns.histplot(ruidoso['Road_55dB'], kde=True, ax=axes[0, 0])\n",
    "axes[0, 0].set_title('Road_55dB')\n",
    "\n",
    "sns.histplot(ruidoso['Road_60dB'], kde=True, ax=axes[0, 1])\n",
    "axes[0, 1].set_title('Road_60dB')\n",
    "\n",
    "sns.histplot(ruidoso['Railways_65dB'], kde=True, ax=axes[1, 0])\n",
    "axes[1, 0].set_title('Railways_65dB')\n",
    "\n",
    "sns.histplot(ruidoso['Industry_65dB'], kde=True, ax=axes[1, 1])\n",
    "axes[1, 1].set_title('Industry_65dB')\n",
    "\n",
    "plt.show()"
   ]
  },
  {
   "cell_type": "markdown",
   "metadata": {},
   "source": [
    "De las anteriores gráficas, se puede observar que la distribución de cada una de las variables tienen formas muy parecidas, especialmente entre las variables **Road_55dB** y **Road_60dB**. Por lo tanto, se puede creer que estas variables tengan algún tipo de relación, para esto, se usará gráficas de dispersión y medidas de correlación."
   ]
  },
  {
   "cell_type": "code",
   "execution_count": 187,
   "metadata": {},
   "outputs": [
    {
     "data": {
      "image/png": "[encoded data removed]",
      "text/plain": [
       "<Figure size 1000x1000 with 10 Axes>"
      ]
     },
     "metadata": {},
     "output_type": "display_data"
    }
   ],
   "source": [
    "sns.pairplot(ruidoso,\n",
    "             corner=1,\n",
    "             diag_kind=None)\n",
    "plt.show()"
   ]
  },
  {
   "cell_type": "markdown",
   "metadata": {},
   "source": [
    "Del anterior código se creó gráficos de dispersión por pares con la ayuda de la función **pairplot** de **seaborn**. Aquí, se puede ver claramente que las variables **Road_60dB** y **Road_55dB** tienen una relación lineal, mientras que las otras combinaciones de las variables no tienen una relación lineal. Por último, se puede observar que existen valores atípicos a nivel bivariado."
   ]
  },
  {
   "cell_type": "code",
   "execution_count": 188,
   "metadata": {},
   "outputs": [
    {
     "data": {
      "text/plain": [
       "<AxesSubplot:>"
      ]
     },
     "execution_count": 188,
     "metadata": {},
     "output_type": "execute_result"
    },
    {
     "data": {
      "image/png": "[encoded data removed]",
      "text/plain": [
       "<Figure size 640x480 with 2 Axes>"
      ]
     },
     "metadata": {},
     "output_type": "display_data"
    }
   ],
   "source": [
    "sns.heatmap(ruidoso.corr(method=\"spearman\"), annot=True)"
   ]
  },
  {
   "cell_type": "markdown",
   "metadata": {},
   "source": [
    "Teniendo en cuenta el anterior análisis, se empleó la medida de correlación de spearman para cuantificar la correlación existente entre las variables. Se puede observar que las variables con más correlación son **Road_60dB** y **Road_55dB** con un valor de 0.96, mientras que la correlación en las otras variables no superan 0.4, es decir, tienen una correlación relativamente débil."
   ]
  },
  {
   "cell_type": "markdown",
   "metadata": {},
   "source": [
    "## c. Verifique si existen problemas de datos atípicos en cada una de las variables usando las metodologías de detección a nivel univariado."
   ]
  },
  {
   "cell_type": "markdown",
   "metadata": {},
   "source": [
    "### Boxplots"
   ]
  },
  {
   "cell_type": "code",
   "execution_count": 189,
   "metadata": {},
   "outputs": [
    {
     "data": {
      "image/png": "[encoded data removed]",
      "text/plain": [
       "<Figure size 1000x600 with 2 Axes>"
      ]
     },
     "metadata": {},
     "output_type": "display_data"
    }
   ],
   "source": [
    "fig, axes = plt.subplots(1, 2, sharex=False, figsize=(10,6))\n",
    "\n",
    "axes[0].set_title(\"Boxplot de Road_55dB\")\n",
    "axes[1].set_title(\"Boxplot de Road_60dB\")\n",
    "\n",
    "sns.boxplot(ax=axes[0], data = ruidoso, x = \"Road_55dB\")\n",
    "sns.boxplot(ax=axes[1], data = ruidoso, x = \"Road_60dB\")\n",
    "\n",
    "plt.show()"
   ]
  },
  {
   "cell_type": "code",
   "execution_count": 190,
   "metadata": {},
   "outputs": [
    {
     "data": {
      "image/png": "[encoded data removed]",
      "text/plain": [
       "<Figure size 1000x600 with 2 Axes>"
      ]
     },
     "metadata": {},
     "output_type": "display_data"
    }
   ],
   "source": [
    "fig, axes = plt.subplots(1, 2, sharex=False, figsize=(10,6))\n",
    "\n",
    "axes[0].set_title(\"Boxplot de Railways_65dB\")\n",
    "axes[1].set_title(\"Boxplot de Industry_65dB\")\n",
    "\n",
    "sns.boxplot(ax=axes[0], data = ruidoso, x = \"Railways_65dB\")\n",
    "sns.boxplot(ax=axes[1], data = ruidoso, x = \"Industry_65dB\")\n",
    "\n",
    "plt.show()"
   ]
  },
  {
   "cell_type": "markdown",
   "metadata": {},
   "source": [
    "Usando los boxplots se puede observar que existen datos atípicos a nivel univariado en cada una de las variables."
   ]
  },
  {
   "cell_type": "markdown",
   "metadata": {},
   "source": [
    "### z-score"
   ]
  },
  {
   "cell_type": "code",
   "execution_count": 191,
   "metadata": {},
   "outputs": [
    {
     "data": {
      "text/plain": [
       "49    2387200\n",
       "66    3108200\n",
       "Name: Road_55dB, dtype: int64"
      ]
     },
     "execution_count": 191,
     "metadata": {},
     "output_type": "execute_result"
    }
   ],
   "source": [
    "# Calculate z-score for each data point and compute its absolute value\n",
    "z_scores = zscore(ruidoso['Road_55dB'], nan_policy=\"omit\")\n",
    "abs_z_scores = np.abs(z_scores)\n",
    "\n",
    "# Select the outliers using a threshold of 3\n",
    "outliers = ruidoso[abs_z_scores > 3]\n",
    "outliers.Road_55dB"
   ]
  },
  {
   "cell_type": "code",
   "execution_count": 192,
   "metadata": {},
   "outputs": [
    {
     "data": {
      "text/plain": [
       "49    1426100\n",
       "66    1469100\n",
       "Name: Road_60dB, dtype: int64"
      ]
     },
     "execution_count": 192,
     "metadata": {},
     "output_type": "execute_result"
    }
   ],
   "source": [
    "# Calculate z-score for each data point and compute its absolute value\n",
    "z_scores = zscore(ruidoso['Road_60dB'], nan_policy=\"omit\")\n",
    "abs_z_scores = np.abs(z_scores)\n",
    "\n",
    "# Select the outliers using a threshold of 3\n",
    "outliers = ruidoso[abs_z_scores > 3]\n",
    "outliers.Road_60dB"
   ]
  },
  {
   "cell_type": "code",
   "execution_count": 193,
   "metadata": {},
   "outputs": [
    {
     "data": {
      "text/plain": [
       "49    29700\n",
       "66    25800\n",
       "Name: Railways_65dB, dtype: int64"
      ]
     },
     "execution_count": 193,
     "metadata": {},
     "output_type": "execute_result"
    }
   ],
   "source": [
    "# Calculate z-score for each data point and compute its absolute value\n",
    "z_scores = zscore(ruidoso['Railways_65dB'], nan_policy=\"omit\")\n",
    "abs_z_scores = np.abs(z_scores)\n",
    "\n",
    "# Select the outliers using a threshold of 3\n",
    "outliers = ruidoso[abs_z_scores > 3]\n",
    "outliers.Railways_65dB"
   ]
  },
  {
   "cell_type": "code",
   "execution_count": 194,
   "metadata": {},
   "outputs": [
    {
     "data": {
      "text/plain": [
       "49    4000.0\n",
       "Name: Industry_65dB, dtype: float64"
      ]
     },
     "execution_count": 194,
     "metadata": {},
     "output_type": "execute_result"
    }
   ],
   "source": [
    "# Calculate z-score for each data point and compute its absolute value\n",
    "z_scores = zscore(ruidoso['Industry_65dB'], nan_policy=\"omit\")\n",
    "abs_z_scores = np.abs(z_scores)\n",
    "\n",
    "# Select the outliers using a threshold of 3\n",
    "outliers = ruidoso[abs_z_scores > 3]\n",
    "outliers.Industry_65dB"
   ]
  },
  {
   "cell_type": "markdown",
   "metadata": {},
   "source": [
    "Empleando el método de zscore con un umbral de 3 a cada una de las variables, se puede observar que según este criterio solo hay 2 valores atípicos (observación 49 y 66) por variable exceptuando la variable **Industry_65dB** que solo tiene un valor atípico (observación 49). Sin embargo, no se puede confiar en los resultados de este criterio, ya que las distribuciones vistas anteriormente no son simétricas y no se distribuyen normal."
   ]
  },
  {
   "cell_type": "markdown",
   "metadata": {},
   "source": [
    "### z-score modificado"
   ]
  },
  {
   "cell_type": "markdown",
   "metadata": {},
   "source": [
    "Este método pretende calcular la siguiente cantidad:\n",
    "\n",
    "$$\n",
    "M_i =  \\frac{{0.6745*(x_i-Mediana)}}{{MAD}}\n",
    "$$\n",
    "\n",
    "Hay que tener en cuenta que la cantidad MAD no puede ser nulo."
   ]
  },
  {
   "cell_type": "code",
   "execution_count": 195,
   "metadata": {},
   "outputs": [
    {
     "name": "stdout",
     "output_type": "stream",
     "text": [
      "Number of outliers: 7\n"
     ]
    }
   ],
   "source": [
    "# Set threshold to 3.5\n",
    "mad = MAD(threshold = 3.5)\n",
    "\n",
    "# Convert the 'total' column into a 2D numpy array\n",
    "Road_55dB_reshaped = ruidoso['Road_55dB'].values.reshape(-1, 1)\n",
    "\n",
    "# Generate inline and outlier labels\n",
    "labels = mad.fit(Road_55dB_reshaped).labels_\n",
    "\n",
    "# Obtain number of outliers\n",
    "print(f'Number of outliers: {labels.sum()}')"
   ]
  },
  {
   "cell_type": "code",
   "execution_count": 196,
   "metadata": {},
   "outputs": [
    {
     "data": {
      "text/plain": [
       "1      166400\n",
       "8      388000\n",
       "13     192900\n",
       "15     823200\n",
       "29     689300\n",
       "49    2387200\n",
       "66    3108200\n",
       "Name: Road_55dB, dtype: int64"
      ]
     },
     "execution_count": 196,
     "metadata": {},
     "output_type": "execute_result"
    }
   ],
   "source": [
    "outliers = ruidoso[labels == 1]\n",
    "outliers.Road_55dB"
   ]
  },
  {
   "cell_type": "markdown",
   "metadata": {},
   "source": [
    "Usando el método de z-score modificado se ha encontrado 7 valores atípicos para la variable **Road_55dB**. Este criterio es más confiable que el z-score, ya que la distribución de esta variable es asimétrica."
   ]
  },
  {
   "cell_type": "code",
   "execution_count": 197,
   "metadata": {},
   "outputs": [
    {
     "name": "stdout",
     "output_type": "stream",
     "text": [
      "Number of outliers: 10\n"
     ]
    }
   ],
   "source": [
    "# Convert the 'total' column into a 2D numpy array\n",
    "Road_60dB_reshaped = ruidoso['Road_60dB'].values.reshape(-1, 1)\n",
    "\n",
    "# Generate inline and outlier labels\n",
    "labels = mad.fit(Road_60dB_reshaped).labels_\n",
    "\n",
    "# Obtain number of outliers\n",
    "print(f'Number of outliers: {labels.sum()}')"
   ]
  },
  {
   "cell_type": "code",
   "execution_count": 198,
   "metadata": {},
   "outputs": [
    {
     "data": {
      "text/plain": [
       "1       79200\n",
       "8      185200\n",
       "13      86000\n",
       "15     371700\n",
       "18      66200\n",
       "27      67300\n",
       "29     309300\n",
       "45      69700\n",
       "49    1426100\n",
       "66    1469100\n",
       "Name: Road_60dB, dtype: int64"
      ]
     },
     "execution_count": 198,
     "metadata": {},
     "output_type": "execute_result"
    }
   ],
   "source": [
    "outliers = ruidoso[labels == 1]\n",
    "outliers.Road_60dB"
   ]
  },
  {
   "cell_type": "markdown",
   "metadata": {},
   "source": [
    "Usando el método de z-score modificado se ha encontrado 10 valores atípicos para la variable **Road_60dB**. Este criterio es más confiable que el z-score, ya que la distribución de esta variable es asimétrica."
   ]
  },
  {
   "cell_type": "code",
   "execution_count": 199,
   "metadata": {},
   "outputs": [
    {
     "name": "stdout",
     "output_type": "stream",
     "text": [
      "Number of outliers: 11\n"
     ]
    }
   ],
   "source": [
    "# Convert the 'total' column into a 2D numpy array\n",
    "Railways_65dB_reshaped = ruidoso['Railways_65dB'].values.reshape(-1, 1)\n",
    "\n",
    "# Generate inline and outlier labels\n",
    "labels = mad.fit(Railways_65dB_reshaped).labels_\n",
    "\n",
    "# Obtain number of outliers\n",
    "print(f'Number of outliers: {labels.sum()}')"
   ]
  },
  {
   "cell_type": "code",
   "execution_count": 200,
   "metadata": {},
   "outputs": [
    {
     "data": {
      "text/plain": [
       "1      1100\n",
       "5      1900\n",
       "11      700\n",
       "29     1600\n",
       "30      800\n",
       "32     1000\n",
       "41     1800\n",
       "49    29700\n",
       "50     2500\n",
       "56      900\n",
       "66    25800\n",
       "Name: Railways_65dB, dtype: int64"
      ]
     },
     "execution_count": 200,
     "metadata": {},
     "output_type": "execute_result"
    }
   ],
   "source": [
    "outliers = ruidoso[labels == 1]\n",
    "outliers.Railways_65dB"
   ]
  },
  {
   "cell_type": "markdown",
   "metadata": {},
   "source": [
    "Usando el método de z-score modificado se ha encontrado 11 valores atípicos para la variable **Railways_65dB**. Este criterio es más confiable que el z-score, ya que la distribución de esta variable es asimétrica."
   ]
  },
  {
   "cell_type": "code",
   "execution_count": 201,
   "metadata": {},
   "outputs": [
    {
     "name": "stdout",
     "output_type": "stream",
     "text": [
      "Number of outliers: 24\n"
     ]
    },
    {
     "name": "stderr",
     "output_type": "stream",
     "text": [
      "c:\\Users\\David\\anaconda3\\lib\\site-packages\\pyod\\models\\mad.py:129: RuntimeWarning: divide by zero encountered in true_divide\n",
      "  return np.nan_to_num(np.ravel(0.6745 * diff / self.median_diff_))\n",
      "c:\\Users\\David\\anaconda3\\lib\\site-packages\\pyod\\models\\mad.py:129: RuntimeWarning: invalid value encountered in true_divide\n",
      "  return np.nan_to_num(np.ravel(0.6745 * diff / self.median_diff_))\n",
      "c:\\Users\\David\\anaconda3\\lib\\site-packages\\numpy\\core\\fromnumeric.py:86: RuntimeWarning: overflow encountered in reduce\n",
      "  return ufunc.reduce(obj, axis, dtype, out, **passkwargs)\n"
     ]
    }
   ],
   "source": [
    "# Eliminar filas con valores NaN en la columna 'Industry_65dB'\n",
    "ruidoso_cleaned = ruidoso.dropna(subset=['Industry_65dB'])\n",
    "\n",
    "# Convertir la columna 'Industry_65dB' a un arreglo numpy 2D\n",
    "Industry_65dB_cleaned = ruidoso_cleaned['Industry_65dB'].values.reshape(-1, 1)\n",
    "\n",
    "# Generate inline and outlier labels\n",
    "labels = mad.fit(Industry_65dB_cleaned).labels_\n",
    "\n",
    "# Obtain number of outliers\n",
    "print(f'Number of outliers: {labels.sum()}')"
   ]
  },
  {
   "cell_type": "code",
   "execution_count": 202,
   "metadata": {},
   "outputs": [
    {
     "data": {
      "text/plain": [
       "4      100.0\n",
       "5      200.0\n",
       "6      100.0\n",
       "7      300.0\n",
       "8     1300.0\n",
       "9      200.0\n",
       "10     100.0\n",
       "12     100.0\n",
       "13     900.0\n",
       "15     800.0\n",
       "18     300.0\n",
       "19     300.0\n",
       "20     300.0\n",
       "21     400.0\n",
       "26     400.0\n",
       "27     200.0\n",
       "29     600.0\n",
       "32     400.0\n",
       "38     100.0\n",
       "45     100.0\n",
       "49    4000.0\n",
       "54     100.0\n",
       "58     100.0\n",
       "64     300.0\n",
       "Name: Industry_65dB, dtype: float64"
      ]
     },
     "execution_count": 202,
     "metadata": {},
     "output_type": "execute_result"
    }
   ],
   "source": [
    "outliers = ruidoso_cleaned[labels == 1]\n",
    "outliers.Industry_65dB"
   ]
  },
  {
   "cell_type": "code",
   "execution_count": 203,
   "metadata": {},
   "outputs": [
    {
     "data": {
      "text/plain": [
       "0.0"
      ]
     },
     "execution_count": 203,
     "metadata": {},
     "output_type": "execute_result"
    }
   ],
   "source": [
    "# Obtain the MAD value\n",
    "mad_score = median_abs_deviation(ruidoso_cleaned['Industry_65dB']) # Industry_65dB\n",
    "mad_score"
   ]
  },
  {
   "cell_type": "markdown",
   "metadata": {},
   "source": [
    "Usando el método de z-score modificado se ha encontrado 24 valores atípicos para la variable **Industry_65dB**. Este criterio presenta problemas ya que el MAD tiene el valor de 0, por lo tanto no se puede confiar en los resultados de la anterior salida."
   ]
  },
  {
   "cell_type": "markdown",
   "metadata": {},
   "source": [
    "### Rango intercuartil (IQR)"
   ]
  },
  {
   "cell_type": "markdown",
   "metadata": {},
   "source": [
    "Primeramente, se crea una función de usuario **atipico_intercuartil** que permite encontrar los datos atípicos usando el método intercuartil, la función imprime un mensaje de cuántos datos atípicos halló bajo este método y retorna los datos atípicos de la respectiva variable."
   ]
  },
  {
   "cell_type": "code",
   "execution_count": 204,
   "metadata": {},
   "outputs": [],
   "source": [
    "def atipico_intercuartil(data, variable):\n",
    "    '''\n",
    "    Descripción: función de usuario que permite hallar datos atípicos usando el método de rango intercuartil (IQR).\n",
    "\n",
    "    data: dataframe de pandas.\n",
    "    variable: variable a utilizar para hallar los datos atípicos. String\n",
    "    '''\n",
    "    # Calculate the percentiles\n",
    "    seventy_fifth = data[variable].quantile(0.75)\n",
    "    twenty_fifth = data[variable].quantile(0.25)\n",
    "\n",
    "    # Obtain IQR\n",
    "    iqr = seventy_fifth - twenty_fifth\n",
    "\n",
    "    # Upper and lower thresholds\n",
    "    upper = seventy_fifth + (1.5 * iqr)\n",
    "    lower = twenty_fifth - (1.5 * iqr)\n",
    "\n",
    "    # Subset the dataset\n",
    "    outliers = data[(data[variable] < lower) | (data[variable] > upper)]\n",
    "    print(f\"Se detectan {len(outliers[variable])} valores atípicos en la variable {variable} usando el método intercuartil\")\n",
    "    return outliers[variable]"
   ]
  },
  {
   "cell_type": "code",
   "execution_count": 205,
   "metadata": {},
   "outputs": [
    {
     "name": "stdout",
     "output_type": "stream",
     "text": [
      "Se detectan 6 valores atípicos en la variable Road_55dB usando el método intercuartil\n"
     ]
    },
    {
     "data": {
      "text/plain": [
       "8      388000\n",
       "13     192900\n",
       "15     823200\n",
       "29     689300\n",
       "49    2387200\n",
       "66    3108200\n",
       "Name: Road_55dB, dtype: int64"
      ]
     },
     "execution_count": 205,
     "metadata": {},
     "output_type": "execute_result"
    }
   ],
   "source": [
    "atipico_intercuartil(ruidoso, \"Road_55dB\")"
   ]
  },
  {
   "cell_type": "code",
   "execution_count": 206,
   "metadata": {},
   "outputs": [
    {
     "name": "stdout",
     "output_type": "stream",
     "text": [
      "Se detectan 7 valores atípicos en la variable Road_60dB usando el método intercuartil\n"
     ]
    },
    {
     "data": {
      "text/plain": [
       "1       79200\n",
       "8      185200\n",
       "13      86000\n",
       "15     371700\n",
       "29     309300\n",
       "49    1426100\n",
       "66    1469100\n",
       "Name: Road_60dB, dtype: int64"
      ]
     },
     "execution_count": 206,
     "metadata": {},
     "output_type": "execute_result"
    }
   ],
   "source": [
    "atipico_intercuartil(ruidoso, \"Road_60dB\")"
   ]
  },
  {
   "cell_type": "code",
   "execution_count": 207,
   "metadata": {},
   "outputs": [
    {
     "name": "stdout",
     "output_type": "stream",
     "text": [
      "Se detectan 7 valores atípicos en la variable Railways_65dB usando el método intercuartil\n"
     ]
    },
    {
     "data": {
      "text/plain": [
       "1      1100\n",
       "5      1900\n",
       "29     1600\n",
       "41     1800\n",
       "49    29700\n",
       "50     2500\n",
       "66    25800\n",
       "Name: Railways_65dB, dtype: int64"
      ]
     },
     "execution_count": 207,
     "metadata": {},
     "output_type": "execute_result"
    }
   ],
   "source": [
    "atipico_intercuartil(ruidoso, \"Railways_65dB\")"
   ]
  },
  {
   "cell_type": "code",
   "execution_count": 208,
   "metadata": {},
   "outputs": [
    {
     "name": "stdout",
     "output_type": "stream",
     "text": [
      "Se detectan 13 valores atípicos en la variable Industry_65dB usando el método intercuartil\n"
     ]
    },
    {
     "data": {
      "text/plain": [
       "7      300.0\n",
       "8     1300.0\n",
       "13     900.0\n",
       "15     800.0\n",
       "18     300.0\n",
       "19     300.0\n",
       "20     300.0\n",
       "21     400.0\n",
       "26     400.0\n",
       "29     600.0\n",
       "32     400.0\n",
       "49    4000.0\n",
       "64     300.0\n",
       "Name: Industry_65dB, dtype: float64"
      ]
     },
     "execution_count": 208,
     "metadata": {},
     "output_type": "execute_result"
    }
   ],
   "source": [
    "atipico_intercuartil(ruidoso, \"Industry_65dB\")"
   ]
  },
  {
   "cell_type": "markdown",
   "metadata": {},
   "source": [
    "En conclusión, este método puede ser el más adecuado para la detección de los datos atípicos a nivel univariado para los datos usados en este ejercicio, ya que este método no requiere que los datos se distribuyan como una normal y no presenta problemas numéricos como el método de z-score modificado para la variable **Industry_65db**."
   ]
  },
  {
   "cell_type": "markdown",
   "metadata": {},
   "source": [
    "## d. ¿Se detectan valores atípicos a nivel multivariado?"
   ]
  },
  {
   "cell_type": "markdown",
   "metadata": {},
   "source": [
    "Teniendo en cuenta que existe un valor faltante y esto afecta el cálculo de la distancia de Mahalanobis, se procede a imputar el valor faltante por la mediana de la respectiva variable."
   ]
  },
  {
   "cell_type": "code",
   "execution_count": 209,
   "metadata": {},
   "outputs": [
    {
     "data": {
      "text/html": [
       "<div>\n",
       "<style scoped>\n",
       "    .dataframe tbody tr th:only-of-type {\n",
       "        vertical-align: middle;\n",
       "    }\n",
       "\n",
       "    .dataframe tbody tr th {\n",
       "        vertical-align: top;\n",
       "    }\n",
       "\n",
       "    .dataframe thead th {\n",
       "        text-align: right;\n",
       "    }\n",
       "</style>\n",
       "<table border=\"1\" class=\"dataframe\">\n",
       "  <thead>\n",
       "    <tr style=\"text-align: right;\">\n",
       "      <th></th>\n",
       "      <th>Road_55dB</th>\n",
       "      <th>Road_60dB</th>\n",
       "      <th>Railways_65dB</th>\n",
       "      <th>Industry_65dB</th>\n",
       "    </tr>\n",
       "  </thead>\n",
       "  <tbody>\n",
       "    <tr>\n",
       "      <th>62</th>\n",
       "      <td>20700</td>\n",
       "      <td>16200</td>\n",
       "      <td>0</td>\n",
       "      <td>0.0</td>\n",
       "    </tr>\n",
       "    <tr>\n",
       "      <th>63</th>\n",
       "      <td>15100</td>\n",
       "      <td>9900</td>\n",
       "      <td>0</td>\n",
       "      <td>0.0</td>\n",
       "    </tr>\n",
       "    <tr>\n",
       "      <th>64</th>\n",
       "      <td>24500</td>\n",
       "      <td>12400</td>\n",
       "      <td>300</td>\n",
       "      <td>300.0</td>\n",
       "    </tr>\n",
       "    <tr>\n",
       "      <th>65</th>\n",
       "      <td>12800</td>\n",
       "      <td>8500</td>\n",
       "      <td>0</td>\n",
       "      <td>0.0</td>\n",
       "    </tr>\n",
       "    <tr>\n",
       "      <th>66</th>\n",
       "      <td>3108200</td>\n",
       "      <td>1469100</td>\n",
       "      <td>25800</td>\n",
       "      <td>0.0</td>\n",
       "    </tr>\n",
       "  </tbody>\n",
       "</table>\n",
       "</div>"
      ],
      "text/plain": [
       "    Road_55dB  Road_60dB  Railways_65dB  Industry_65dB\n",
       "62      20700      16200              0            0.0\n",
       "63      15100       9900              0            0.0\n",
       "64      24500      12400            300          300.0\n",
       "65      12800       8500              0            0.0\n",
       "66    3108200    1469100          25800            0.0"
      ]
     },
     "execution_count": 209,
     "metadata": {},
     "output_type": "execute_result"
    }
   ],
   "source": [
    "ruidoso_sin_faltante = ruidoso.fillna(median(ruidoso.Industry_65dB))\n",
    "ruidoso_sin_faltante.tail()"
   ]
  },
  {
   "cell_type": "markdown",
   "metadata": {},
   "source": [
    "### Distancia de Mahalanobis"
   ]
  },
  {
   "cell_type": "code",
   "execution_count": 210,
   "metadata": {},
   "outputs": [
    {
     "data": {
      "text/html": [
       "<div>\n",
       "<style scoped>\n",
       "    .dataframe tbody tr th:only-of-type {\n",
       "        vertical-align: middle;\n",
       "    }\n",
       "\n",
       "    .dataframe tbody tr th {\n",
       "        vertical-align: top;\n",
       "    }\n",
       "\n",
       "    .dataframe thead th {\n",
       "        text-align: right;\n",
       "    }\n",
       "</style>\n",
       "<table border=\"1\" class=\"dataframe\">\n",
       "  <thead>\n",
       "    <tr style=\"text-align: right;\">\n",
       "      <th></th>\n",
       "      <th>Road_55dB</th>\n",
       "      <th>Road_60dB</th>\n",
       "      <th>Railways_65dB</th>\n",
       "      <th>Industry_65dB</th>\n",
       "      <th>mahalanobis_distance</th>\n",
       "    </tr>\n",
       "  </thead>\n",
       "  <tbody>\n",
       "    <tr>\n",
       "      <th>1</th>\n",
       "      <td>166400</td>\n",
       "      <td>79200</td>\n",
       "      <td>1100</td>\n",
       "      <td>0.0</td>\n",
       "      <td>0.700726</td>\n",
       "    </tr>\n",
       "    <tr>\n",
       "      <th>2</th>\n",
       "      <td>20000</td>\n",
       "      <td>11000</td>\n",
       "      <td>0</td>\n",
       "      <td>0.0</td>\n",
       "      <td>0.724467</td>\n",
       "    </tr>\n",
       "    <tr>\n",
       "      <th>3</th>\n",
       "      <td>37800</td>\n",
       "      <td>18000</td>\n",
       "      <td>0</td>\n",
       "      <td>0.0</td>\n",
       "      <td>0.700625</td>\n",
       "    </tr>\n",
       "    <tr>\n",
       "      <th>4</th>\n",
       "      <td>24500</td>\n",
       "      <td>16700</td>\n",
       "      <td>0</td>\n",
       "      <td>100.0</td>\n",
       "      <td>0.641624</td>\n",
       "    </tr>\n",
       "    <tr>\n",
       "      <th>5</th>\n",
       "      <td>103100</td>\n",
       "      <td>33500</td>\n",
       "      <td>1900</td>\n",
       "      <td>200.0</td>\n",
       "      <td>3.196330</td>\n",
       "    </tr>\n",
       "    <tr>\n",
       "      <th>...</th>\n",
       "      <td>...</td>\n",
       "      <td>...</td>\n",
       "      <td>...</td>\n",
       "      <td>...</td>\n",
       "      <td>...</td>\n",
       "    </tr>\n",
       "    <tr>\n",
       "      <th>62</th>\n",
       "      <td>20700</td>\n",
       "      <td>16200</td>\n",
       "      <td>0</td>\n",
       "      <td>0.0</td>\n",
       "      <td>1.150109</td>\n",
       "    </tr>\n",
       "    <tr>\n",
       "      <th>63</th>\n",
       "      <td>15100</td>\n",
       "      <td>9900</td>\n",
       "      <td>0</td>\n",
       "      <td>0.0</td>\n",
       "      <td>0.800643</td>\n",
       "    </tr>\n",
       "    <tr>\n",
       "      <th>64</th>\n",
       "      <td>24500</td>\n",
       "      <td>12400</td>\n",
       "      <td>300</td>\n",
       "      <td>300.0</td>\n",
       "      <td>1.109024</td>\n",
       "    </tr>\n",
       "    <tr>\n",
       "      <th>65</th>\n",
       "      <td>12800</td>\n",
       "      <td>8500</td>\n",
       "      <td>0</td>\n",
       "      <td>0.0</td>\n",
       "      <td>0.764907</td>\n",
       "    </tr>\n",
       "    <tr>\n",
       "      <th>66</th>\n",
       "      <td>3108200</td>\n",
       "      <td>1469100</td>\n",
       "      <td>25800</td>\n",
       "      <td>0.0</td>\n",
       "      <td>7.772388</td>\n",
       "    </tr>\n",
       "  </tbody>\n",
       "</table>\n",
       "<p>66 rows × 5 columns</p>\n",
       "</div>"
      ],
      "text/plain": [
       "    Road_55dB  Road_60dB  Railways_65dB  Industry_65dB  mahalanobis_distance\n",
       "1      166400      79200           1100            0.0              0.700726\n",
       "2       20000      11000              0            0.0              0.724467\n",
       "3       37800      18000              0            0.0              0.700625\n",
       "4       24500      16700              0          100.0              0.641624\n",
       "5      103100      33500           1900          200.0              3.196330\n",
       "..        ...        ...            ...            ...                   ...\n",
       "62      20700      16200              0            0.0              1.150109\n",
       "63      15100       9900              0            0.0              0.800643\n",
       "64      24500      12400            300          300.0              1.109024\n",
       "65      12800       8500              0            0.0              0.764907\n",
       "66    3108200    1469100          25800            0.0              7.772388\n",
       "\n",
       "[66 rows x 5 columns]"
      ]
     },
     "execution_count": 210,
     "metadata": {},
     "output_type": "execute_result"
    }
   ],
   "source": [
    "# Calculamos la matriz de covarianza de las variables\n",
    "cov_matrix = np.cov(ruidoso_sin_faltante, rowvar=False)\n",
    "\n",
    "# Calculamos la inversa de la matriz de covarianza\n",
    "cov_inv = np.linalg.inv(cov_matrix)\n",
    "\n",
    "# Calculamos la distancia de Mahalanobis para cada fila en el DataFrame\n",
    "dist_mahalanobis = []\n",
    "for row in ruidoso_sin_faltante.values:\n",
    "    dist = distance.mahalanobis(row, ruidoso_sin_faltante.mean(), cov_inv)\n",
    "    dist_mahalanobis.append(dist)\n",
    "\n",
    "# Agregamos la distancia de Mahalanobis como una nueva columna en el DataFrame\n",
    "ruidoso_sin_faltante['mahalanobis_distance'] = dist_mahalanobis"
   ]
  },
  {
   "cell_type": "code",
   "execution_count": 225,
   "metadata": {},
   "outputs": [
    {
     "data": {
      "text/html": [
       "<div>\n",
       "<style scoped>\n",
       "    .dataframe tbody tr th:only-of-type {\n",
       "        vertical-align: middle;\n",
       "    }\n",
       "\n",
       "    .dataframe tbody tr th {\n",
       "        vertical-align: top;\n",
       "    }\n",
       "\n",
       "    .dataframe thead th {\n",
       "        text-align: right;\n",
       "    }\n",
       "</style>\n",
       "<table border=\"1\" class=\"dataframe\">\n",
       "  <thead>\n",
       "    <tr style=\"text-align: right;\">\n",
       "      <th></th>\n",
       "      <th>Road_55dB</th>\n",
       "      <th>Road_60dB</th>\n",
       "      <th>Railways_65dB</th>\n",
       "      <th>Industry_65dB</th>\n",
       "      <th>mahalanobis_distance</th>\n",
       "      <th>lof_score</th>\n",
       "    </tr>\n",
       "  </thead>\n",
       "  <tbody>\n",
       "    <tr>\n",
       "      <th>49</th>\n",
       "      <td>2387200</td>\n",
       "      <td>1426100</td>\n",
       "      <td>29700</td>\n",
       "      <td>4000.0</td>\n",
       "      <td>7.930110</td>\n",
       "      <td>13.401267</td>\n",
       "    </tr>\n",
       "    <tr>\n",
       "      <th>66</th>\n",
       "      <td>3108200</td>\n",
       "      <td>1469100</td>\n",
       "      <td>25800</td>\n",
       "      <td>0.0</td>\n",
       "      <td>7.772388</td>\n",
       "      <td>15.602701</td>\n",
       "    </tr>\n",
       "    <tr>\n",
       "      <th>15</th>\n",
       "      <td>823200</td>\n",
       "      <td>371700</td>\n",
       "      <td>300</td>\n",
       "      <td>800.0</td>\n",
       "      <td>5.383971</td>\n",
       "      <td>10.668763</td>\n",
       "    </tr>\n",
       "    <tr>\n",
       "      <th>8</th>\n",
       "      <td>388000</td>\n",
       "      <td>185200</td>\n",
       "      <td>300</td>\n",
       "      <td>1300.0</td>\n",
       "      <td>4.321800</td>\n",
       "      <td>7.136681</td>\n",
       "    </tr>\n",
       "    <tr>\n",
       "      <th>13</th>\n",
       "      <td>192900</td>\n",
       "      <td>86000</td>\n",
       "      <td>100</td>\n",
       "      <td>900.0</td>\n",
       "      <td>3.368562</td>\n",
       "      <td>1.549033</td>\n",
       "    </tr>\n",
       "    <tr>\n",
       "      <th>29</th>\n",
       "      <td>689300</td>\n",
       "      <td>309300</td>\n",
       "      <td>1600</td>\n",
       "      <td>600.0</td>\n",
       "      <td>3.313313</td>\n",
       "      <td>9.165655</td>\n",
       "    </tr>\n",
       "    <tr>\n",
       "      <th>50</th>\n",
       "      <td>77200</td>\n",
       "      <td>24300</td>\n",
       "      <td>2500</td>\n",
       "      <td>0.0</td>\n",
       "      <td>3.207822</td>\n",
       "      <td>0.951998</td>\n",
       "    </tr>\n",
       "    <tr>\n",
       "      <th>5</th>\n",
       "      <td>103100</td>\n",
       "      <td>33500</td>\n",
       "      <td>1900</td>\n",
       "      <td>200.0</td>\n",
       "      <td>3.196330</td>\n",
       "      <td>1.240279</td>\n",
       "    </tr>\n",
       "    <tr>\n",
       "      <th>32</th>\n",
       "      <td>102800</td>\n",
       "      <td>41600</td>\n",
       "      <td>1000</td>\n",
       "      <td>400.0</td>\n",
       "      <td>2.290744</td>\n",
       "      <td>1.180531</td>\n",
       "    </tr>\n",
       "    <tr>\n",
       "      <th>41</th>\n",
       "      <td>47500</td>\n",
       "      <td>17400</td>\n",
       "      <td>1800</td>\n",
       "      <td>0.0</td>\n",
       "      <td>2.081142</td>\n",
       "      <td>1.127663</td>\n",
       "    </tr>\n",
       "    <tr>\n",
       "      <th>61</th>\n",
       "      <td>74400</td>\n",
       "      <td>47000</td>\n",
       "      <td>0</td>\n",
       "      <td>0.0</td>\n",
       "      <td>2.052789</td>\n",
       "      <td>1.120192</td>\n",
       "    </tr>\n",
       "  </tbody>\n",
       "</table>\n",
       "</div>"
      ],
      "text/plain": [
       "    Road_55dB  Road_60dB  Railways_65dB  Industry_65dB  mahalanobis_distance  \\\n",
       "49    2387200    1426100          29700         4000.0              7.930110   \n",
       "66    3108200    1469100          25800            0.0              7.772388   \n",
       "15     823200     371700            300          800.0              5.383971   \n",
       "8      388000     185200            300         1300.0              4.321800   \n",
       "13     192900      86000            100          900.0              3.368562   \n",
       "29     689300     309300           1600          600.0              3.313313   \n",
       "50      77200      24300           2500            0.0              3.207822   \n",
       "5      103100      33500           1900          200.0              3.196330   \n",
       "32     102800      41600           1000          400.0              2.290744   \n",
       "41      47500      17400           1800            0.0              2.081142   \n",
       "61      74400      47000              0            0.0              2.052789   \n",
       "\n",
       "    lof_score  \n",
       "49  13.401267  \n",
       "66  15.602701  \n",
       "15  10.668763  \n",
       "8    7.136681  \n",
       "13   1.549033  \n",
       "29   9.165655  \n",
       "50   0.951998  \n",
       "5    1.240279  \n",
       "32   1.180531  \n",
       "41   1.127663  \n",
       "61   1.120192  "
      ]
     },
     "execution_count": 225,
     "metadata": {},
     "output_type": "execute_result"
    }
   ],
   "source": [
    "# Ordenamos el DataFrame por la columna de distancia de Mahalanobis en orden descendente\n",
    "df_sorted = ruidoso_sin_faltante.sort_values(by='mahalanobis_distance', ascending=False)\n",
    "\n",
    "# Seleccionamos aquellos registros con las distancias mayor a 2\n",
    "distancia_mayor_a_dos = df_sorted[df_sorted.mahalanobis_distance >= 2]\n",
    "distancia_mayor_a_dos"
   ]
  },
  {
   "cell_type": "code",
   "execution_count": 239,
   "metadata": {},
   "outputs": [
    {
     "data": {
      "text/plain": [
       "11"
      ]
     },
     "execution_count": 239,
     "metadata": {},
     "output_type": "execute_result"
    }
   ],
   "source": [
    "len(distancia_mayor_a_dos)"
   ]
  },
  {
   "cell_type": "markdown",
   "metadata": {},
   "source": [
    "Usando la distancia de Mahalanobis y usando un criterio personal (distancia mayor o igual a 2), se han encontrado 11 valores atípicos a nivel multivariado."
   ]
  },
  {
   "cell_type": "markdown",
   "metadata": {},
   "source": [
    "### Local Outlier Factor"
   ]
  },
  {
   "cell_type": "markdown",
   "metadata": {},
   "source": [
    "Para este método de búsqueda de datos atípicos, se usará los 5 vecinos más cercanos y no la configuración predeterminada."
   ]
  },
  {
   "cell_type": "code",
   "execution_count": 221,
   "metadata": {},
   "outputs": [
    {
     "data": {
      "text/html": [
       "<div>\n",
       "<style scoped>\n",
       "    .dataframe tbody tr th:only-of-type {\n",
       "        vertical-align: middle;\n",
       "    }\n",
       "\n",
       "    .dataframe tbody tr th {\n",
       "        vertical-align: top;\n",
       "    }\n",
       "\n",
       "    .dataframe thead th {\n",
       "        text-align: right;\n",
       "    }\n",
       "</style>\n",
       "<table border=\"1\" class=\"dataframe\">\n",
       "  <thead>\n",
       "    <tr style=\"text-align: right;\">\n",
       "      <th></th>\n",
       "      <th>Road_55dB</th>\n",
       "      <th>Road_60dB</th>\n",
       "      <th>Railways_65dB</th>\n",
       "      <th>Industry_65dB</th>\n",
       "      <th>mahalanobis_distance</th>\n",
       "      <th>lof_score</th>\n",
       "    </tr>\n",
       "  </thead>\n",
       "  <tbody>\n",
       "    <tr>\n",
       "      <th>1</th>\n",
       "      <td>166400</td>\n",
       "      <td>79200</td>\n",
       "      <td>1100</td>\n",
       "      <td>0.0</td>\n",
       "      <td>0.700726</td>\n",
       "      <td>1.184494</td>\n",
       "    </tr>\n",
       "    <tr>\n",
       "      <th>2</th>\n",
       "      <td>20000</td>\n",
       "      <td>11000</td>\n",
       "      <td>0</td>\n",
       "      <td>0.0</td>\n",
       "      <td>0.724467</td>\n",
       "      <td>1.101867</td>\n",
       "    </tr>\n",
       "    <tr>\n",
       "      <th>3</th>\n",
       "      <td>37800</td>\n",
       "      <td>18000</td>\n",
       "      <td>0</td>\n",
       "      <td>0.0</td>\n",
       "      <td>0.700625</td>\n",
       "      <td>0.986031</td>\n",
       "    </tr>\n",
       "    <tr>\n",
       "      <th>4</th>\n",
       "      <td>24500</td>\n",
       "      <td>16700</td>\n",
       "      <td>0</td>\n",
       "      <td>100.0</td>\n",
       "      <td>0.641624</td>\n",
       "      <td>0.979519</td>\n",
       "    </tr>\n",
       "    <tr>\n",
       "      <th>5</th>\n",
       "      <td>103100</td>\n",
       "      <td>33500</td>\n",
       "      <td>1900</td>\n",
       "      <td>200.0</td>\n",
       "      <td>3.196330</td>\n",
       "      <td>1.240279</td>\n",
       "    </tr>\n",
       "    <tr>\n",
       "      <th>...</th>\n",
       "      <td>...</td>\n",
       "      <td>...</td>\n",
       "      <td>...</td>\n",
       "      <td>...</td>\n",
       "      <td>...</td>\n",
       "      <td>...</td>\n",
       "    </tr>\n",
       "    <tr>\n",
       "      <th>62</th>\n",
       "      <td>20700</td>\n",
       "      <td>16200</td>\n",
       "      <td>0</td>\n",
       "      <td>0.0</td>\n",
       "      <td>1.150109</td>\n",
       "      <td>1.159004</td>\n",
       "    </tr>\n",
       "    <tr>\n",
       "      <th>63</th>\n",
       "      <td>15100</td>\n",
       "      <td>9900</td>\n",
       "      <td>0</td>\n",
       "      <td>0.0</td>\n",
       "      <td>0.800643</td>\n",
       "      <td>0.975804</td>\n",
       "    </tr>\n",
       "    <tr>\n",
       "      <th>64</th>\n",
       "      <td>24500</td>\n",
       "      <td>12400</td>\n",
       "      <td>300</td>\n",
       "      <td>300.0</td>\n",
       "      <td>1.109024</td>\n",
       "      <td>0.994866</td>\n",
       "    </tr>\n",
       "    <tr>\n",
       "      <th>65</th>\n",
       "      <td>12800</td>\n",
       "      <td>8500</td>\n",
       "      <td>0</td>\n",
       "      <td>0.0</td>\n",
       "      <td>0.764907</td>\n",
       "      <td>1.011528</td>\n",
       "    </tr>\n",
       "    <tr>\n",
       "      <th>66</th>\n",
       "      <td>3108200</td>\n",
       "      <td>1469100</td>\n",
       "      <td>25800</td>\n",
       "      <td>0.0</td>\n",
       "      <td>7.772388</td>\n",
       "      <td>15.602701</td>\n",
       "    </tr>\n",
       "  </tbody>\n",
       "</table>\n",
       "<p>66 rows × 6 columns</p>\n",
       "</div>"
      ],
      "text/plain": [
       "    Road_55dB  Road_60dB  Railways_65dB  Industry_65dB  mahalanobis_distance  \\\n",
       "1      166400      79200           1100            0.0              0.700726   \n",
       "2       20000      11000              0            0.0              0.724467   \n",
       "3       37800      18000              0            0.0              0.700625   \n",
       "4       24500      16700              0          100.0              0.641624   \n",
       "5      103100      33500           1900          200.0              3.196330   \n",
       "..        ...        ...            ...            ...                   ...   \n",
       "62      20700      16200              0            0.0              1.150109   \n",
       "63      15100       9900              0            0.0              0.800643   \n",
       "64      24500      12400            300          300.0              1.109024   \n",
       "65      12800       8500              0            0.0              0.764907   \n",
       "66    3108200    1469100          25800            0.0              7.772388   \n",
       "\n",
       "    lof_score  \n",
       "1    1.184494  \n",
       "2    1.101867  \n",
       "3    0.986031  \n",
       "4    0.979519  \n",
       "5    1.240279  \n",
       "..        ...  \n",
       "62   1.159004  \n",
       "63   0.975804  \n",
       "64   0.994866  \n",
       "65   1.011528  \n",
       "66  15.602701  \n",
       "\n",
       "[66 rows x 6 columns]"
      ]
     },
     "execution_count": 221,
     "metadata": {},
     "output_type": "execute_result"
    }
   ],
   "source": [
    "# Calculamos el LOF para las tres variables\n",
    "lof = LocalOutlierFactor(n_neighbors = 5)\n",
    "lof.fit_predict(ruidoso_sin_faltante)\n",
    "\n",
    "# Obtenemos los scores LOF para cada punto\n",
    "scores_lof = -lof.negative_outlier_factor_\n",
    "\n",
    "# Agregamos los scores LOF como una nueva columna en el DataFrame\n",
    "ruidoso_sin_faltante['lof_score'] = scores_lof\n",
    "\n",
    "# Mostramos el DataFrame con los scores LOF\n",
    "ruidoso_sin_faltante"
   ]
  },
  {
   "cell_type": "code",
   "execution_count": 224,
   "metadata": {},
   "outputs": [
    {
     "data": {
      "text/html": [
       "<div>\n",
       "<style scoped>\n",
       "    .dataframe tbody tr th:only-of-type {\n",
       "        vertical-align: middle;\n",
       "    }\n",
       "\n",
       "    .dataframe tbody tr th {\n",
       "        vertical-align: top;\n",
       "    }\n",
       "\n",
       "    .dataframe thead th {\n",
       "        text-align: right;\n",
       "    }\n",
       "</style>\n",
       "<table border=\"1\" class=\"dataframe\">\n",
       "  <thead>\n",
       "    <tr style=\"text-align: right;\">\n",
       "      <th></th>\n",
       "      <th>Road_55dB</th>\n",
       "      <th>Road_60dB</th>\n",
       "      <th>Railways_65dB</th>\n",
       "      <th>Industry_65dB</th>\n",
       "      <th>mahalanobis_distance</th>\n",
       "      <th>lof_score</th>\n",
       "    </tr>\n",
       "  </thead>\n",
       "  <tbody>\n",
       "    <tr>\n",
       "      <th>66</th>\n",
       "      <td>3108200</td>\n",
       "      <td>1469100</td>\n",
       "      <td>25800</td>\n",
       "      <td>0.0</td>\n",
       "      <td>7.772388</td>\n",
       "      <td>15.602701</td>\n",
       "    </tr>\n",
       "    <tr>\n",
       "      <th>49</th>\n",
       "      <td>2387200</td>\n",
       "      <td>1426100</td>\n",
       "      <td>29700</td>\n",
       "      <td>4000.0</td>\n",
       "      <td>7.930110</td>\n",
       "      <td>13.401267</td>\n",
       "    </tr>\n",
       "    <tr>\n",
       "      <th>15</th>\n",
       "      <td>823200</td>\n",
       "      <td>371700</td>\n",
       "      <td>300</td>\n",
       "      <td>800.0</td>\n",
       "      <td>5.383971</td>\n",
       "      <td>10.668763</td>\n",
       "    </tr>\n",
       "    <tr>\n",
       "      <th>29</th>\n",
       "      <td>689300</td>\n",
       "      <td>309300</td>\n",
       "      <td>1600</td>\n",
       "      <td>600.0</td>\n",
       "      <td>3.313313</td>\n",
       "      <td>9.165655</td>\n",
       "    </tr>\n",
       "    <tr>\n",
       "      <th>8</th>\n",
       "      <td>388000</td>\n",
       "      <td>185200</td>\n",
       "      <td>300</td>\n",
       "      <td>1300.0</td>\n",
       "      <td>4.321800</td>\n",
       "      <td>7.136681</td>\n",
       "    </tr>\n",
       "    <tr>\n",
       "      <th>30</th>\n",
       "      <td>7600</td>\n",
       "      <td>4000</td>\n",
       "      <td>800</td>\n",
       "      <td>0.0</td>\n",
       "      <td>0.974601</td>\n",
       "      <td>1.698795</td>\n",
       "    </tr>\n",
       "    <tr>\n",
       "      <th>13</th>\n",
       "      <td>192900</td>\n",
       "      <td>86000</td>\n",
       "      <td>100</td>\n",
       "      <td>900.0</td>\n",
       "      <td>3.368562</td>\n",
       "      <td>1.549033</td>\n",
       "    </tr>\n",
       "    <tr>\n",
       "      <th>25</th>\n",
       "      <td>17700</td>\n",
       "      <td>5800</td>\n",
       "      <td>0</td>\n",
       "      <td>0.0</td>\n",
       "      <td>0.450939</td>\n",
       "      <td>1.506205</td>\n",
       "    </tr>\n",
       "    <tr>\n",
       "      <th>24</th>\n",
       "      <td>8600</td>\n",
       "      <td>5800</td>\n",
       "      <td>100</td>\n",
       "      <td>0.0</td>\n",
       "      <td>0.651516</td>\n",
       "      <td>1.472590</td>\n",
       "    </tr>\n",
       "    <tr>\n",
       "      <th>38</th>\n",
       "      <td>31600</td>\n",
       "      <td>10700</td>\n",
       "      <td>200</td>\n",
       "      <td>100.0</td>\n",
       "      <td>0.566397</td>\n",
       "      <td>1.464228</td>\n",
       "    </tr>\n",
       "  </tbody>\n",
       "</table>\n",
       "</div>"
      ],
      "text/plain": [
       "    Road_55dB  Road_60dB  Railways_65dB  Industry_65dB  mahalanobis_distance  \\\n",
       "66    3108200    1469100          25800            0.0              7.772388   \n",
       "49    2387200    1426100          29700         4000.0              7.930110   \n",
       "15     823200     371700            300          800.0              5.383971   \n",
       "29     689300     309300           1600          600.0              3.313313   \n",
       "8      388000     185200            300         1300.0              4.321800   \n",
       "30       7600       4000            800            0.0              0.974601   \n",
       "13     192900      86000            100          900.0              3.368562   \n",
       "25      17700       5800              0            0.0              0.450939   \n",
       "24       8600       5800            100            0.0              0.651516   \n",
       "38      31600      10700            200          100.0              0.566397   \n",
       "\n",
       "    lof_score  \n",
       "66  15.602701  \n",
       "49  13.401267  \n",
       "15  10.668763  \n",
       "29   9.165655  \n",
       "8    7.136681  \n",
       "30   1.698795  \n",
       "13   1.549033  \n",
       "25   1.506205  \n",
       "24   1.472590  \n",
       "38   1.464228  "
      ]
     },
     "execution_count": 224,
     "metadata": {},
     "output_type": "execute_result"
    }
   ],
   "source": [
    "# Ordenamos el DataFrame por la columna 'lof_score' en orden descendente\n",
    "df_sorted = ruidoso_sin_faltante.sort_values(by='lof_score', ascending=False)\n",
    "\n",
    "# Seleccionamos los primeros diez registros con los scores LOF más grandes\n",
    "primeros_diez_lof = df_sorted.head(10)\n",
    "primeros_diez_lof"
   ]
  },
  {
   "cell_type": "code",
   "execution_count": 228,
   "metadata": {},
   "outputs": [
    {
     "data": {
      "text/plain": [
       "Int64Index([49, 66, 15, 8, 13, 29, 50, 5, 32, 41, 61], dtype='int64')"
      ]
     },
     "execution_count": 228,
     "metadata": {},
     "output_type": "execute_result"
    }
   ],
   "source": [
    "distancia_mayor_a_dos.index"
   ]
  },
  {
   "cell_type": "markdown",
   "metadata": {},
   "source": [
    "Del anterior dataframe ordenado de mayor a menor mediante el criterio lof_score, se puede observar que los primeros 5 registros tiene un lof_scores relativamente altos, por lo tanto estas observaciones se pueden considerar como potenciales atípicos a nivel multivariado. Cabe destarcar, que estos 5 registros también se consideran como atípicos usando el método de distancia de Mahalanobis."
   ]
  },
  {
   "cell_type": "markdown",
   "metadata": {},
   "source": [
    "### Isolation Forest"
   ]
  },
  {
   "cell_type": "code",
   "execution_count": 237,
   "metadata": {},
   "outputs": [
    {
     "data": {
      "text/html": [
       "<div>\n",
       "<style scoped>\n",
       "    .dataframe tbody tr th:only-of-type {\n",
       "        vertical-align: middle;\n",
       "    }\n",
       "\n",
       "    .dataframe tbody tr th {\n",
       "        vertical-align: top;\n",
       "    }\n",
       "\n",
       "    .dataframe thead th {\n",
       "        text-align: right;\n",
       "    }\n",
       "</style>\n",
       "<table border=\"1\" class=\"dataframe\">\n",
       "  <thead>\n",
       "    <tr style=\"text-align: right;\">\n",
       "      <th></th>\n",
       "      <th>Road_55dB</th>\n",
       "      <th>Road_60dB</th>\n",
       "      <th>Railways_65dB</th>\n",
       "      <th>Industry_65dB</th>\n",
       "      <th>mahalanobis_distance</th>\n",
       "      <th>lof_score</th>\n",
       "      <th>puntajes_anomalia</th>\n",
       "    </tr>\n",
       "  </thead>\n",
       "  <tbody>\n",
       "    <tr>\n",
       "      <th>49</th>\n",
       "      <td>2387200</td>\n",
       "      <td>1426100</td>\n",
       "      <td>29700</td>\n",
       "      <td>4000.0</td>\n",
       "      <td>7.930110</td>\n",
       "      <td>13.401267</td>\n",
       "      <td>0.798670</td>\n",
       "    </tr>\n",
       "    <tr>\n",
       "      <th>66</th>\n",
       "      <td>3108200</td>\n",
       "      <td>1469100</td>\n",
       "      <td>25800</td>\n",
       "      <td>0.0</td>\n",
       "      <td>7.772388</td>\n",
       "      <td>15.602701</td>\n",
       "      <td>0.792813</td>\n",
       "    </tr>\n",
       "    <tr>\n",
       "      <th>15</th>\n",
       "      <td>823200</td>\n",
       "      <td>371700</td>\n",
       "      <td>300</td>\n",
       "      <td>800.0</td>\n",
       "      <td>5.383971</td>\n",
       "      <td>10.668763</td>\n",
       "      <td>0.684241</td>\n",
       "    </tr>\n",
       "    <tr>\n",
       "      <th>8</th>\n",
       "      <td>388000</td>\n",
       "      <td>185200</td>\n",
       "      <td>300</td>\n",
       "      <td>1300.0</td>\n",
       "      <td>4.321800</td>\n",
       "      <td>7.136681</td>\n",
       "      <td>0.675898</td>\n",
       "    </tr>\n",
       "    <tr>\n",
       "      <th>29</th>\n",
       "      <td>689300</td>\n",
       "      <td>309300</td>\n",
       "      <td>1600</td>\n",
       "      <td>600.0</td>\n",
       "      <td>3.313313</td>\n",
       "      <td>9.165655</td>\n",
       "      <td>0.665750</td>\n",
       "    </tr>\n",
       "    <tr>\n",
       "      <th>13</th>\n",
       "      <td>192900</td>\n",
       "      <td>86000</td>\n",
       "      <td>100</td>\n",
       "      <td>900.0</td>\n",
       "      <td>3.368562</td>\n",
       "      <td>1.549033</td>\n",
       "      <td>0.616185</td>\n",
       "    </tr>\n",
       "    <tr>\n",
       "      <th>50</th>\n",
       "      <td>77200</td>\n",
       "      <td>24300</td>\n",
       "      <td>2500</td>\n",
       "      <td>0.0</td>\n",
       "      <td>3.207822</td>\n",
       "      <td>0.951998</td>\n",
       "      <td>0.564258</td>\n",
       "    </tr>\n",
       "    <tr>\n",
       "      <th>5</th>\n",
       "      <td>103100</td>\n",
       "      <td>33500</td>\n",
       "      <td>1900</td>\n",
       "      <td>200.0</td>\n",
       "      <td>3.196330</td>\n",
       "      <td>1.240279</td>\n",
       "      <td>0.532627</td>\n",
       "    </tr>\n",
       "    <tr>\n",
       "      <th>1</th>\n",
       "      <td>166400</td>\n",
       "      <td>79200</td>\n",
       "      <td>1100</td>\n",
       "      <td>0.0</td>\n",
       "      <td>0.700726</td>\n",
       "      <td>1.184494</td>\n",
       "      <td>0.530318</td>\n",
       "    </tr>\n",
       "    <tr>\n",
       "      <th>32</th>\n",
       "      <td>102800</td>\n",
       "      <td>41600</td>\n",
       "      <td>1000</td>\n",
       "      <td>400.0</td>\n",
       "      <td>2.290744</td>\n",
       "      <td>1.180531</td>\n",
       "      <td>0.513076</td>\n",
       "    </tr>\n",
       "    <tr>\n",
       "      <th>30</th>\n",
       "      <td>7600</td>\n",
       "      <td>4000</td>\n",
       "      <td>800</td>\n",
       "      <td>0.0</td>\n",
       "      <td>0.974601</td>\n",
       "      <td>1.698795</td>\n",
       "      <td>0.506936</td>\n",
       "    </tr>\n",
       "    <tr>\n",
       "      <th>41</th>\n",
       "      <td>47500</td>\n",
       "      <td>17400</td>\n",
       "      <td>1800</td>\n",
       "      <td>0.0</td>\n",
       "      <td>2.081142</td>\n",
       "      <td>1.127663</td>\n",
       "      <td>0.501319</td>\n",
       "    </tr>\n",
       "  </tbody>\n",
       "</table>\n",
       "</div>"
      ],
      "text/plain": [
       "    Road_55dB  Road_60dB  Railways_65dB  Industry_65dB  mahalanobis_distance  \\\n",
       "49    2387200    1426100          29700         4000.0              7.930110   \n",
       "66    3108200    1469100          25800            0.0              7.772388   \n",
       "15     823200     371700            300          800.0              5.383971   \n",
       "8      388000     185200            300         1300.0              4.321800   \n",
       "29     689300     309300           1600          600.0              3.313313   \n",
       "13     192900      86000            100          900.0              3.368562   \n",
       "50      77200      24300           2500            0.0              3.207822   \n",
       "5      103100      33500           1900          200.0              3.196330   \n",
       "1      166400      79200           1100            0.0              0.700726   \n",
       "32     102800      41600           1000          400.0              2.290744   \n",
       "30       7600       4000            800            0.0              0.974601   \n",
       "41      47500      17400           1800            0.0              2.081142   \n",
       "\n",
       "    lof_score  puntajes_anomalia  \n",
       "49  13.401267           0.798670  \n",
       "66  15.602701           0.792813  \n",
       "15  10.668763           0.684241  \n",
       "8    7.136681           0.675898  \n",
       "29   9.165655           0.665750  \n",
       "13   1.549033           0.616185  \n",
       "50   0.951998           0.564258  \n",
       "5    1.240279           0.532627  \n",
       "1    1.184494           0.530318  \n",
       "32   1.180531           0.513076  \n",
       "30   1.698795           0.506936  \n",
       "41   1.127663           0.501319  "
      ]
     },
     "execution_count": 237,
     "metadata": {},
     "output_type": "execute_result"
    }
   ],
   "source": [
    "# Definimos la cantidad de árboles\n",
    "n_arboles = 300\n",
    "\n",
    "# Inicializamos y ajustamos el modelo Isolation Forest con la cantidad de árboles especificada\n",
    "isolation_forest = IsolationForest(n_estimators=n_arboles, random_state=42)\n",
    "puntajes_anomalia = isolation_forest.fit(ruidoso_sin_faltante)\n",
    "\n",
    "# Obtenemos los puntajes de anomalía para cada muestra\n",
    "puntajes_anomalia = isolation_forest.score_samples(ruidoso_sin_faltante)\n",
    "\n",
    "# Convertimos los puntajes de anomalía a valores positivos\n",
    "puntajes_anomalia = -puntajes_anomalia\n",
    "\n",
    "# Obtenemos las etiquetas de anomalía (inlier/outlier) para cada punto\n",
    "#etiquetas_anomalia = isolation_forest.predict(df_selected)\n",
    "\n",
    "# Agregamos las etiquetas de anomalía como una nueva columna en el DataFrame\n",
    "ruidoso_sin_faltante['puntajes_anomalia'] = puntajes_anomalia\n",
    "\n",
    "# Ordenamos el DataFrame por los puntajes de anomalía en orden descendente\n",
    "df_sorted = ruidoso_sin_faltante.sort_values(by='puntajes_anomalia', ascending=False)\n",
    "\n",
    "# Seleccionamos los primeros diez registros con los puntajes de anomalía más altos\n",
    "puntaje_mayor_a_un_medio = df_sorted[df_sorted.puntajes_anomalia > 0.5]\n",
    "puntaje_mayor_a_un_medio"
   ]
  },
  {
   "cell_type": "code",
   "execution_count": 238,
   "metadata": {},
   "outputs": [
    {
     "data": {
      "text/plain": [
       "12"
      ]
     },
     "execution_count": 238,
     "metadata": {},
     "output_type": "execute_result"
    }
   ],
   "source": [
    "len(puntaje_mayor_a_un_medio)"
   ]
  },
  {
   "cell_type": "markdown",
   "metadata": {},
   "source": [
    "Usando el método de isolation forest con 300 árboles y un criterio personal (puntajes_anomalia > 0.5), se ha detectado 12 datos atípicos. Cabe destacar que los primeros 5 datos atípicos hallados coinciden con los hallados en los primeros dos métodos de detección de datos atípicos a nivel multivariado. Por lo tanto, se puede concluir que los datos con índices 49, 66, 15, 8 y 29 son potenciales atípicos a nivel multivariado."
   ]
  },
  {
   "cell_type": "markdown",
   "metadata": {},
   "source": [
    "## e. Para el caso univariado, escoja una variable y realice un análisis sobre las implicaciones que tiene realizar diferentes tratamientos a los datos atípicos en la distribución de la respectiva variable."
   ]
  },
  {
   "cell_type": "markdown",
   "metadata": {},
   "source": [
    "Para este ejercicio se elige la variable **Railways_65dB**."
   ]
  },
  {
   "cell_type": "code",
   "execution_count": null,
   "metadata": {},
   "outputs": [],
   "source": []
  },
  {
   "cell_type": "code",
   "execution_count": null,
   "metadata": {},
   "outputs": [],
   "source": []
  },
  {
   "cell_type": "markdown",
   "metadata": {},
   "source": [
    "# zona de prueba"
   ]
  },
  {
   "cell_type": "code",
   "execution_count": 114,
   "metadata": {},
   "outputs": [
    {
     "data": {
      "text/plain": [
       "array([[   0.],\n",
       "       [   0.],\n",
       "       [   0.],\n",
       "       [ 100.],\n",
       "       [ 200.],\n",
       "       [ 100.],\n",
       "       [ 300.],\n",
       "       [1300.],\n",
       "       [ 200.],\n",
       "       [ 100.],\n",
       "       [   0.],\n",
       "       [ 100.],\n",
       "       [ 900.],\n",
       "       [   0.],\n",
       "       [ 800.],\n",
       "       [   0.],\n",
       "       [   0.],\n",
       "       [ 300.],\n",
       "       [ 300.],\n",
       "       [ 300.],\n",
       "       [ 400.],\n",
       "       [   0.],\n",
       "       [   0.],\n",
       "       [   0.],\n",
       "       [   0.],\n",
       "       [ 400.],\n",
       "       [ 200.],\n",
       "       [   0.],\n",
       "       [ 600.],\n",
       "       [   0.],\n",
       "       [   0.],\n",
       "       [ 400.],\n",
       "       [   0.],\n",
       "       [   0.],\n",
       "       [   0.],\n",
       "       [   0.],\n",
       "       [   0.],\n",
       "       [ 100.],\n",
       "       [   0.],\n",
       "       [   0.],\n",
       "       [   0.],\n",
       "       [   0.],\n",
       "       [   0.],\n",
       "       [   0.],\n",
       "       [ 100.],\n",
       "       [   0.],\n",
       "       [   0.],\n",
       "       [   0.],\n",
       "       [4000.],\n",
       "       [   0.],\n",
       "       [   0.],\n",
       "       [   0.],\n",
       "       [   0.],\n",
       "       [ 100.],\n",
       "       [   0.],\n",
       "       [   0.],\n",
       "       [   0.],\n",
       "       [ 100.],\n",
       "       [   0.],\n",
       "       [   0.],\n",
       "       [   0.],\n",
       "       [   0.],\n",
       "       [   0.],\n",
       "       [ 300.],\n",
       "       [   0.],\n",
       "       [  nan]])"
      ]
     },
     "execution_count": 114,
     "metadata": {},
     "output_type": "execute_result"
    }
   ],
   "source": [
    "#ruidoso['Industry_65dB'].values.dropna()\n",
    "Industry_65dB_reshaped = ruidoso['Industry_65dB'].values.reshape(-1, 1)\n",
    "Industry_65dB_reshaped"
   ]
  },
  {
   "cell_type": "code",
   "execution_count": 113,
   "metadata": {},
   "outputs": [
    {
     "data": {
      "text/plain": [
       "array([[   0.],\n",
       "       [   0.],\n",
       "       [   0.],\n",
       "       [ 100.],\n",
       "       [ 200.],\n",
       "       [ 100.],\n",
       "       [ 300.],\n",
       "       [1300.],\n",
       "       [ 200.],\n",
       "       [ 100.],\n",
       "       [   0.],\n",
       "       [ 100.],\n",
       "       [ 900.],\n",
       "       [   0.],\n",
       "       [ 800.],\n",
       "       [   0.],\n",
       "       [   0.],\n",
       "       [ 300.],\n",
       "       [ 300.],\n",
       "       [ 300.],\n",
       "       [ 400.],\n",
       "       [   0.],\n",
       "       [   0.],\n",
       "       [   0.],\n",
       "       [   0.],\n",
       "       [ 400.],\n",
       "       [ 200.],\n",
       "       [   0.],\n",
       "       [ 600.],\n",
       "       [   0.],\n",
       "       [   0.],\n",
       "       [ 400.],\n",
       "       [   0.],\n",
       "       [   0.],\n",
       "       [   0.],\n",
       "       [   0.],\n",
       "       [   0.],\n",
       "       [ 100.],\n",
       "       [   0.],\n",
       "       [   0.],\n",
       "       [   0.],\n",
       "       [   0.],\n",
       "       [   0.],\n",
       "       [   0.],\n",
       "       [ 100.],\n",
       "       [   0.],\n",
       "       [   0.],\n",
       "       [   0.],\n",
       "       [4000.],\n",
       "       [   0.],\n",
       "       [   0.],\n",
       "       [   0.],\n",
       "       [   0.],\n",
       "       [ 100.],\n",
       "       [   0.],\n",
       "       [   0.],\n",
       "       [   0.],\n",
       "       [ 100.],\n",
       "       [   0.],\n",
       "       [   0.],\n",
       "       [   0.],\n",
       "       [   0.],\n",
       "       [   0.],\n",
       "       [ 300.],\n",
       "       [   0.]])"
      ]
     },
     "execution_count": 113,
     "metadata": {},
     "output_type": "execute_result"
    }
   ],
   "source": [
    "# Eliminar filas con valores NaN en la columna 'Industry_65dB'\n",
    "ruidoso_cleaned = ruidoso.dropna(subset=['Industry_65dB'])\n",
    "\n",
    "# Convertir la columna 'Industry_65dB' a un arreglo numpy 2D\n",
    "Industry_65dB_cleaned = ruidoso_cleaned['Industry_65dB'].values.reshape(-1, 1)\n",
    "Industry_65dB_cleaned"
   ]
  },
  {
   "cell_type": "code",
   "execution_count": 120,
   "metadata": {},
   "outputs": [
    {
     "data": {
      "text/plain": [
       "0.01"
      ]
     },
     "execution_count": 120,
     "metadata": {},
     "output_type": "execute_result"
    }
   ],
   "source": [
    "\n"
   ]
  }
 ],
 "metadata": {
  "kernelspec": {
   "display_name": "base",
   "language": "python",
   "name": "python3"
  },
  "language_info": {
   "codemirror_mode": {
    "name": "ipython",
    "version": 3
   },
   "file_extension": ".py",
   "mimetype": "text/x-python",
   "name": "python",
   "nbconvert_exporter": "python",
   "pygments_lexer": "ipython3",
   "version": "3.9.13"
  }
 },
 "nbformat": 4,
 "nbformat_minor": 2
}
