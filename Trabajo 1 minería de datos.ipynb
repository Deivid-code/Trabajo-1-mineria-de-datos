{
 "cells": [
  {
   "cell_type": "markdown",
   "metadata": {},
   "source": [
    "# Librerías"
   ]
  },
  {
   "cell_type": "code",
   "execution_count": 38,
   "metadata": {},
   "outputs": [],
   "source": [
    "import pandas as pd\n",
    "from summarytools import dfSummary\n",
    "\n",
    "import matplotlib.pyplot as plt\n",
    "import seaborn as sns"
   ]
  },
  {
   "cell_type": "markdown",
   "metadata": {},
   "source": [
    "# 1. A partir del dataset ruidoso.txt realice los siguientes análisis:"
   ]
  },
  {
   "cell_type": "markdown",
   "metadata": {},
   "source": [
    "## a. Cargue y explore el dataset explicando en qué consiste y las características que posee el mismo."
   ]
  },
  {
   "cell_type": "code",
   "execution_count": 13,
   "metadata": {},
   "outputs": [],
   "source": [
    "ruidoso = pd.read_csv(\"data/ruidoso.txt\")"
   ]
  },
  {
   "cell_type": "markdown",
   "metadata": {},
   "source": [
    "Se usa la función **read_csv** de pandas para leer la información contenida en el archivo ruidoso.txt, y se guarda esta en un objeto llamado **ruidoso**."
   ]
  },
  {
   "cell_type": "code",
   "execution_count": 27,
   "metadata": {},
   "outputs": [
    {
     "data": {
      "text/html": [
       "<style type=\"text/css\">\n",
       "#T_677cc thead>tr>th {\n",
       "  text-align: left;\n",
       "}\n",
       "#T_677cc_row0_col0, #T_677cc_row1_col0, #T_677cc_row2_col0, #T_677cc_row3_col0 {\n",
       "  text-align: left;\n",
       "  font-size: 12px;\n",
       "  vertical-align: middle;\n",
       "  width: 5%;\n",
       "  max-width: 50px;\n",
       "  min-width: 20px;\n",
       "}\n",
       "#T_677cc_row0_col1, #T_677cc_row1_col1, #T_677cc_row2_col1, #T_677cc_row3_col1 {\n",
       "  text-align: left;\n",
       "  font-size: 12px;\n",
       "  vertical-align: middle;\n",
       "  width: 15%;\n",
       "  max-width: 200px;\n",
       "  min-width: 100px;\n",
       "  word-break: break-word;\n",
       "}\n",
       "#T_677cc_row0_col2, #T_677cc_row1_col2, #T_677cc_row2_col2, #T_677cc_row3_col2 {\n",
       "  text-align: left;\n",
       "  font-size: 12px;\n",
       "  vertical-align: middle;\n",
       "  width: 30%;\n",
       "  min-width: 100px;\n",
       "}\n",
       "#T_677cc_row0_col3, #T_677cc_row1_col3, #T_677cc_row2_col3, #T_677cc_row3_col3 {\n",
       "  text-align: left;\n",
       "  font-size: 12px;\n",
       "  vertical-align: middle;\n",
       "  width: 25%;\n",
       "  min-width: 100px;\n",
       "}\n",
       "#T_677cc_row0_col4, #T_677cc_row1_col4, #T_677cc_row2_col4, #T_677cc_row3_col4 {\n",
       "  text-align: left;\n",
       "  font-size: 12px;\n",
       "  vertical-align: middle;\n",
       "  width: 20%;\n",
       "  min-width: 150px;\n",
       "}\n",
       "#T_677cc_row0_col5, #T_677cc_row1_col5, #T_677cc_row2_col5, #T_677cc_row3_col5 {\n",
       "  text-align: left;\n",
       "  font-size: 12px;\n",
       "  vertical-align: middle;\n",
       "  width: 10%;\n",
       "}\n",
       "</style>\n",
       "<table id=\"T_677cc\">\n",
       "  <caption><strong>Data Frame Summary</strong><br>ruidoso<br>Dimensions: 66 x 4<br>Duplicates: 0</caption>\n",
       "  <thead>\n",
       "    <tr>\n",
       "      <th id=\"T_677cc_level0_col0\" class=\"col_heading level0 col0\" >No</th>\n",
       "      <th id=\"T_677cc_level0_col1\" class=\"col_heading level0 col1\" >Variable</th>\n",
       "      <th id=\"T_677cc_level0_col2\" class=\"col_heading level0 col2\" >Stats / Values</th>\n",
       "      <th id=\"T_677cc_level0_col3\" class=\"col_heading level0 col3\" >Freqs / (% of Valid)</th>\n",
       "      <th id=\"T_677cc_level0_col4\" class=\"col_heading level0 col4\" >Graph</th>\n",
       "      <th id=\"T_677cc_level0_col5\" class=\"col_heading level0 col5\" >Missing</th>\n",
       "    </tr>\n",
       "  </thead>\n",
       "  <tbody>\n",
       "    <tr>\n",
       "      <td id=\"T_677cc_row0_col0\" class=\"data row0 col0\" >1</td>\n",
       "      <td id=\"T_677cc_row0_col1\" class=\"data row0 col1\" ><strong>Road_55dB</strong><br>[int64]</td>\n",
       "      <td id=\"T_677cc_row0_col2\" class=\"data row0 col2\" >Mean (sd) : 159228.8 (484751.3)<br>min < med < max:<br>7600.0 < 37550.0 < 3108200.0<br>IQR (CV) : 59950.0 (0.3)</td>\n",
       "      <td id=\"T_677cc_row0_col3\" class=\"data row0 col3\" >61 distinct values</td>\n",
       "      <td id=\"T_677cc_row0_col4\" class=\"data row0 col4\" ><img src = \"data:image/png;base64, iVBORw0KGgoAAAANSUhEUgAAAKoAAABGCAYAAABc8A97AAAAOXRFWHRTb2Z0d2FyZQBNYXRwbG90bGliIHZlcnNpb24zLjUuMiwgaHR0cHM6Ly9tYXRwbG90bGliLm9yZy8qNh9FAAAACXBIWXMAAA9hAAAPYQGoP6dpAAAB40lEQVR4nO3XsU7CUBSH8XNEsUTpDUUZeQBMfAB2HX1YV3dWBl+CpZFWY4kNuW4uJmIvGvzH7zf33HuTfm1TjzEa8NcdHfoAwHcc77rA3Qdm1k9c/y3G2CTOAh++DNXdB+Px+C7P81HK4nVdP7n7PbFiX7veqP08z0fz+bwJIWy6LFxVVbZYLEZlWfbNjFCxl52ffjOzEMJmMpm8Jqw/SJgBPuFnChIIFRIIFRIIFRIIFRIIFRIIFRIIFRIIFRIIFRIIFRIIFRIIFRIIFRIIFRIIFRIIFRIIFRIIFRIIFRIIFRIIFRIIFRIIFRIIFRIIFRIIFRIIFRIIFRIIFRIIFRIIFRIIFRIIFRIIFRIIFRIIFRIIFRIIFRIIFRIIFRIIFRIIFRIIFRIIFRIIFRIIFRIIFRIIFRIIFRIIFRIIFRIIFRIIFRIIFRIIFRIIFRIIFRIIFRIIFRIIFRKOD32Ar7j7wMz6ieNvMcbmJ8+Dw/nVULfb7YmZ5e6eMp4VRXEbQjhLGa7r+snd7/9brId8uH9z72+FWlVV1nXX1Wo1bNv2ejqd9nq93qbrfNu2mZldzWazx+Fw+Nxltmma0+VyeVmW5YW71133FpYVRXETQjhPGV6v1y/u/mBmne/XvnvverG8A+3sY8cpONmSAAAAAElFTkSuQmCC\"></img></td>\n",
       "      <td id=\"T_677cc_row0_col5\" class=\"data row0 col5\" >0<br>(0.0%)</td>\n",
       "    </tr>\n",
       "    <tr>\n",
       "      <td id=\"T_677cc_row1_col0\" class=\"data row1 col0\" >2</td>\n",
       "      <td id=\"T_677cc_row1_col1\" class=\"data row1 col1\" ><strong>Road_60dB</strong><br>[int64]</td>\n",
       "      <td id=\"T_677cc_row1_col2\" class=\"data row1 col2\" >Mean (sd) : 78587.9 (251409.0)<br>min < med < max:<br>4000.0 < 17400.0 < 1469100.0<br>IQR (CV) : 24425.0 (0.3)</td>\n",
       "      <td id=\"T_677cc_row1_col3\" class=\"data row1 col3\" >63 distinct values</td>\n",
       "      <td id=\"T_677cc_row1_col4\" class=\"data row1 col4\" ><img src = \"data:image/png;base64, iVBORw0KGgoAAAANSUhEUgAAAKoAAABGCAYAAABc8A97AAAAOXRFWHRTb2Z0d2FyZQBNYXRwbG90bGliIHZlcnNpb24zLjUuMiwgaHR0cHM6Ly9tYXRwbG90bGliLm9yZy8qNh9FAAAACXBIWXMAAA9hAAAPYQGoP6dpAAAB80lEQVR4nO3XQW7aQBiG4f8vqYNVmJFxw5IDUIkDcIAuc9gcgi0SvQSbUWRXqmlc5O66aQXxpGn6Se+z5huP5FcgfBgGA/537976AsBz3Fz7gLuXZlZknv80DEOXuQV+uRiqu5d1Xd+HEKqcw9u2fXT3B2LFS137Ri1CCNV2u+1ijKcxBzdNM93tdlVKqTAzQsWLXP3pNzOLMZ6Wy+W3jPPLjA3wG/5MQQKhQgKhQgKhQgKhQgKhQgKhQgKhQgKhQgKhQgKhQgKhQgKhQgKhQgKhQgKhQgKhQgKhQgKhQgKhQgKhQgKhQgKhQgKhQgKhQgKhQgKhQgKhQgKhQgKhQgKhQgKhQgKhQgKhQgKhQgKhQgKhQgKhQgKhQgKhQgKhQgKhQgKhQgKhQgKhQgKhQgKhQgKhQgKhQgKhQgKhQgKhQgKhQgKhQgKhQgKhQgKhQgKhQgKhQgKhQgKhQsLNW1/gEncvzazInD8Nw9D9zfvgstd8X68a6vl8fm9mwd1z5tPFYvE5xvghZ9y27aO7PxDrv+HuZV3X9yGEKmd/7X09K9SmaaZjH3w8Hud9329Wq9VkMpmcxu77vp+a2af1ev1lPp9/HbPtuu52v9/fpZQ+uns79tnIEmaz2d1ms/lRluX3McOu624Ph0OVUirM7I+h/gS4/GS7jFUA0wAAAABJRU5ErkJggg==\"></img></td>\n",
       "      <td id=\"T_677cc_row1_col5\" class=\"data row1 col5\" >0<br>(0.0%)</td>\n",
       "    </tr>\n",
       "    <tr>\n",
       "      <td id=\"T_677cc_row2_col0\" class=\"data row2 col0\" >3</td>\n",
       "      <td id=\"T_677cc_row2_col1\" class=\"data row2 col1\" ><strong>Railways_65dB</strong><br>[int64]</td>\n",
       "      <td id=\"T_677cc_row2_col2\" class=\"data row2 col2\" >Mean (sd) : 1139.4 (4778.8)<br>min < med < max:<br>0.0 < 100.0 < 29700.0<br>IQR (CV) : 400.0 (0.2)</td>\n",
       "      <td id=\"T_677cc_row2_col3\" class=\"data row2 col3\" >18 distinct values</td>\n",
       "      <td id=\"T_677cc_row2_col4\" class=\"data row2 col4\" ><img src = \"data:image/png;base64, iVBORw0KGgoAAAANSUhEUgAAAKoAAABGCAYAAABc8A97AAAAOXRFWHRTb2Z0d2FyZQBNYXRwbG90bGliIHZlcnNpb24zLjUuMiwgaHR0cHM6Ly9tYXRwbG90bGliLm9yZy8qNh9FAAAACXBIWXMAAA9hAAAPYQGoP6dpAAABpUlEQVR4nO3XQWrbUBSG0feMa2wwErbBG+guPM+0i80ivIsuwQQJXIcEVZ11ElLHMjT54ZypdK/e4ENCdRzHAl/d7LMPAB8xv3ZDrXVVSllM3P8yjuNl4iz89c9Qa62r3W73o2mazZTlfd8/1Vofxcq9rr1RF03TbA6Hw6Vt2+dbFnddtzwej5vT6bQopQiVu1z99JdSStu2z/v9/teE/asJM/CGnykiCJUIQiWCUIkgVCIIlQhCJYJQiSBUIgiVCEIlglCJIFQiCJUIQiWCUIkgVCIIlQhCJYJQiSBUIgiVCEIlglCJIFQiCJUIQiWCUIkgVCIIlQhCJYJQiSBUIgiVCEIlglCJIFQiCJUIQiWCUIkgVCIIlQhCJYJQiSBUIgiVCEIlglCJIFQiCJUIQiWCUIkgVCIIlQhCJYJQiSBUIgiVCEIlglCJIFQiCJUI888+AF9HrXVVSlncsWJWSvk9cfZlHMfLexc/FGrXdctbn9p13XIYhnkppam13jrO/7fcbrcPbduupwwPw/DtfD5/X6/XP2ez2eut833fP9VaH9+L9Q//c0Aw9BjlPwAAAABJRU5ErkJggg==\"></img></td>\n",
       "      <td id=\"T_677cc_row2_col5\" class=\"data row2 col5\" >0<br>(0.0%)</td>\n",
       "    </tr>\n",
       "    <tr>\n",
       "      <td id=\"T_677cc_row3_col0\" class=\"data row3 col0\" >4</td>\n",
       "      <td id=\"T_677cc_row3_col1\" class=\"data row3 col1\" ><strong>Industry_65dB</strong><br>[float64]</td>\n",
       "      <td id=\"T_677cc_row3_col2\" class=\"data row3 col2\" >1. 0.0<br>2. 100.0<br>3. 300.0<br>4. 200.0<br>5. 400.0<br>6. 1300.0<br>7. 900.0<br>8. 800.0<br>9. 600.0<br>10. 4000.0<br>11. other</td>\n",
       "      <td id=\"T_677cc_row3_col3\" class=\"data row3 col3\" >41 (62.1%)<br>8 (12.1%)<br>5 (7.6%)<br>3 (4.5%)<br>3 (4.5%)<br>1 (1.5%)<br>1 (1.5%)<br>1 (1.5%)<br>1 (1.5%)<br>1 (1.5%)<br>1 (1.5%)</td>\n",
       "      <td id=\"T_677cc_row3_col4\" class=\"data row3 col4\" ><img src = \"data:image/png;base64, iVBORw0KGgoAAAANSUhEUgAAAJsAAAD+CAYAAAAtWHdlAAAAOXRFWHRTb2Z0d2FyZQBNYXRwbG90bGliIHZlcnNpb24zLjUuMiwgaHR0cHM6Ly9tYXRwbG90bGliLm9yZy8qNh9FAAAACXBIWXMAAA9hAAAPYQGoP6dpAAAD8UlEQVR4nO3dQW7bVgBF0S/BSOuJBMOAl+EFeBFdbBehBXgfhmEOqjQTddCi6MQJqNCXhXnOCj6CGwok/kt2l8tlQGG/9gHYDrGRERsZsZERGxmxkREbGbGRERuZ3RjjdozxZe2DbNi3y+VyXvsQhZv7+/vfDofD3doH2appml53u93vWwju5nA43D09PZ2Px+PXtQ+zNW9vb7+eTqe7l5eXL2OMzx/bGGMcj8evDw8Pf6x9mI26XfsAFS8IZMRGRmxkxEZGbGTERkZsZMRGRmxkxEZGbGTERkZsZMRG5maMv+9VrX2QLdran/vNNE2vp9PpbmzoXtX/yTRNr2OMb2ufo2CDsL7NbBB2/sksKks/2Tbzt5T5Fl1XbWkpxHyLrau2thRivqXXVd5oeZePumTERkZsZMRGRmxkxEZGbGTERkZsZMRGRmxkxEZGbGQWG7xsbbzBfIsOXrY03mA+18LJGLyQuebJ5unFVWYPXoxauNaswYtRCz/jmsGLUQtX8VGXjNjIiI2M2MiIjYzYyIiNjNjIiI2M2MiIjYzYyIiNzKzBi1ELP2P24MWohWu5Fk7G4IWMFwQyP/oZ9ZPJYr67rrKkYknvrqssqVjaj9ZVllQsxgsCGbGRERsZsZERGxmxkREbGbGRERsZsZERGxmxkREbmXfXVZZULO276ypLKpbkWjgZ6yoynmxkDF7IGLyQMXgh46MuGbGRERsZsZERGxmxkREbGbGRERsZsZERGxmxkREbGYMXMgYvZFwLJ2PwQua/TzZPMT7Uv4MX4xY+2v5wONw9Pj6OfxZWc/4rSJhlP8YYt7e3f659ED4/H3XJiI2M2MiIjYzYyIiNjNjIiI2M2MiIjYzYyIiNjNjIiI3MfowxzufzL2sfhM9vP03T6/PzsyUVH84GgYx1FRlPNjLWVWSsq8hYV5HxUZeM2MiIjYzYyIiNjNjIiI2M2MiIjYzYyIiNjNjIiI2MwQsZgxcyroWTMXgh48lGxuCFjMELGYMXMj7qkhEbGbGRERsZsZERGxmxkREbGbGRERsZsZERGxmxkTF4IWPwQsa1cDIGL2S8IJDxM0rGuoqMdRUZ6yoyXhDIiI2M2MiIjYzYyIiNjNjIiI2M2MiIjYzYyIiNjNjIWFeRsa4i41o4GesqMp5sZAxeyBi8kDF4IeOjLhmxkREbGbGRERsZsZERGxmxkREbGbGRERsZsZERGxmDFzIGL2RcCydj8ELGk42MwQsZgxcyBi9kfNQlIzYyYiMjNjJiIyM2MmIjIzYyYiMjNjJiIyM2MmIjY/BCxuCFjGvhZAxeyHhBICM2MmIjIzYyYiMjNjJiIyM2MmIj8xfS1PQxXcup6wAAAABJRU5ErkJggg==\"></img></td>\n",
       "      <td id=\"T_677cc_row3_col5\" class=\"data row3 col5\" >1<br>(1.5%)</td>\n",
       "    </tr>\n",
       "  </tbody>\n",
       "</table>\n"
      ],
      "text/plain": [
       "<pandas.io.formats.style.Styler at 0x1f7fcf0f4c0>"
      ]
     },
     "execution_count": 27,
     "metadata": {},
     "output_type": "execute_result"
    }
   ],
   "source": [
    "dfSummary(ruidoso, is_collapsible=False)"
   ]
  },
  {
   "cell_type": "markdown",
   "metadata": {},
   "source": [
    "A continuación se crea una función de usuario para verificar si una lista de valores son todos consecutivos y distintos entre sí."
   ]
  },
  {
   "cell_type": "code",
   "execution_count": 15,
   "metadata": {},
   "outputs": [
    {
     "name": "stdout",
     "output_type": "stream",
     "text": [
      "Los valores de la variable Unnamed: 0 son diferentes y consecutivos.\n"
     ]
    }
   ],
   "source": [
    "def son_diferentes_consecutivos(lista):\n",
    "    for i in range(len(lista) - 1):\n",
    "        if lista[i] == lista[i + 1]:\n",
    "            return False\n",
    "        if lista[i] + 1 != lista[i + 1]:\n",
    "            return False\n",
    "    return True\n",
    "\n",
    "# Verificar si los valores son diferentes y consecutivos\n",
    "variable = \"Unnamed: 0\"\n",
    "if son_diferentes_consecutivos(ruidoso[variable]):\n",
    "    print(f\"Los valores de la variable {variable} son diferentes y consecutivos.\")\n",
    "else:\n",
    "    print(f\"Los valores de la variable {variable} no son diferentes y consecutivos.\")"
   ]
  },
  {
   "cell_type": "markdown",
   "metadata": {},
   "source": [
    "Las variables en este archivo parecen representar diferentes tipos de ruido (presumiblemente en diferentes áreas o ubicaciones), y los valores numéricos parecen ser mediciones de niveles de ruido en decibelios (dB) en diferentes condiciones ambientales.\n",
    "\n",
    "Una descripción tentativa de las variables podría ser:\n",
    "\n",
    "- Road_55dB: Esta variable parece representar mediciones de ruido provenientes de carreteras con un nivel de 55 decibelios (dB).\n",
    "\n",
    "- Road_60dB: Esta variable parece representar mediciones de ruido provenientes de carreteras con un nivel de 60 decibelios (dB).\n",
    "\n",
    "- Railways_65dB: Esta variable parece representar mediciones de ruido provenientes de ferrocarriles con un nivel de 65 decibelios (dB).\n",
    "\n",
    "- Industry_65dB: Esta variable parece representar mediciones de ruido provenientes de industrias con un nivel de 65 decibelios (dB)."
   ]
  },
  {
   "cell_type": "markdown",
   "metadata": {},
   "source": [
    "Con la ayuda de la función **dfSummary**, se obtiene un resumen del dataframe **ruidoso**. se puede observar que este dataframe tiene una dimensión de 66 filas y 5 columnas, no tiene duplicados y las 5 variables son numéricas, sin embargo, la primera variable **Unnamed: 0** contiene 66 valores distintos que va desde 1 hasta 66 (verificado con la función de usuario), por lo que en realidad esta variable es un índice del dataframe y no una variable como tal. Por último, se puede observar que la variable **Industry_65dB** tiene un valor faltante, y dicho valor faltante está afectando la salida de los estadísticos de resumen tales como la media y la mediana de esta variable, por lo tanto, se usará otra función para conocer los estadísticos de resumen de esta."
   ]
  },
  {
   "cell_type": "code",
   "execution_count": 16,
   "metadata": {},
   "outputs": [
    {
     "data": {
      "text/html": [
       "<div>\n",
       "<style scoped>\n",
       "    .dataframe tbody tr th:only-of-type {\n",
       "        vertical-align: middle;\n",
       "    }\n",
       "\n",
       "    .dataframe tbody tr th {\n",
       "        vertical-align: top;\n",
       "    }\n",
       "\n",
       "    .dataframe thead th {\n",
       "        text-align: right;\n",
       "    }\n",
       "</style>\n",
       "<table border=\"1\" class=\"dataframe\">\n",
       "  <thead>\n",
       "    <tr style=\"text-align: right;\">\n",
       "      <th></th>\n",
       "      <th>Road_55dB</th>\n",
       "      <th>Road_60dB</th>\n",
       "      <th>Railways_65dB</th>\n",
       "      <th>Industry_65dB</th>\n",
       "    </tr>\n",
       "  </thead>\n",
       "  <tbody>\n",
       "    <tr>\n",
       "      <th>1</th>\n",
       "      <td>166400</td>\n",
       "      <td>79200</td>\n",
       "      <td>1100</td>\n",
       "      <td>0.0</td>\n",
       "    </tr>\n",
       "    <tr>\n",
       "      <th>2</th>\n",
       "      <td>20000</td>\n",
       "      <td>11000</td>\n",
       "      <td>0</td>\n",
       "      <td>0.0</td>\n",
       "    </tr>\n",
       "    <tr>\n",
       "      <th>3</th>\n",
       "      <td>37800</td>\n",
       "      <td>18000</td>\n",
       "      <td>0</td>\n",
       "      <td>0.0</td>\n",
       "    </tr>\n",
       "    <tr>\n",
       "      <th>4</th>\n",
       "      <td>24500</td>\n",
       "      <td>16700</td>\n",
       "      <td>0</td>\n",
       "      <td>100.0</td>\n",
       "    </tr>\n",
       "    <tr>\n",
       "      <th>5</th>\n",
       "      <td>103100</td>\n",
       "      <td>33500</td>\n",
       "      <td>1900</td>\n",
       "      <td>200.0</td>\n",
       "    </tr>\n",
       "    <tr>\n",
       "      <th>...</th>\n",
       "      <td>...</td>\n",
       "      <td>...</td>\n",
       "      <td>...</td>\n",
       "      <td>...</td>\n",
       "    </tr>\n",
       "    <tr>\n",
       "      <th>62</th>\n",
       "      <td>20700</td>\n",
       "      <td>16200</td>\n",
       "      <td>0</td>\n",
       "      <td>0.0</td>\n",
       "    </tr>\n",
       "    <tr>\n",
       "      <th>63</th>\n",
       "      <td>15100</td>\n",
       "      <td>9900</td>\n",
       "      <td>0</td>\n",
       "      <td>0.0</td>\n",
       "    </tr>\n",
       "    <tr>\n",
       "      <th>64</th>\n",
       "      <td>24500</td>\n",
       "      <td>12400</td>\n",
       "      <td>300</td>\n",
       "      <td>300.0</td>\n",
       "    </tr>\n",
       "    <tr>\n",
       "      <th>65</th>\n",
       "      <td>12800</td>\n",
       "      <td>8500</td>\n",
       "      <td>0</td>\n",
       "      <td>0.0</td>\n",
       "    </tr>\n",
       "    <tr>\n",
       "      <th>66</th>\n",
       "      <td>3108200</td>\n",
       "      <td>1469100</td>\n",
       "      <td>25800</td>\n",
       "      <td>NaN</td>\n",
       "    </tr>\n",
       "  </tbody>\n",
       "</table>\n",
       "<p>66 rows × 4 columns</p>\n",
       "</div>"
      ],
      "text/plain": [
       "    Road_55dB  Road_60dB  Railways_65dB  Industry_65dB\n",
       "1      166400      79200           1100            0.0\n",
       "2       20000      11000              0            0.0\n",
       "3       37800      18000              0            0.0\n",
       "4       24500      16700              0          100.0\n",
       "5      103100      33500           1900          200.0\n",
       "..        ...        ...            ...            ...\n",
       "62      20700      16200              0            0.0\n",
       "63      15100       9900              0            0.0\n",
       "64      24500      12400            300          300.0\n",
       "65      12800       8500              0            0.0\n",
       "66    3108200    1469100          25800            NaN\n",
       "\n",
       "[66 rows x 4 columns]"
      ]
     },
     "execution_count": 16,
     "metadata": {},
     "output_type": "execute_result"
    }
   ],
   "source": [
    "ruidoso.set_index('Unnamed: 0', drop=True, inplace=True)\n",
    "ruidoso.index.name = None \n",
    "ruidoso"
   ]
  },
  {
   "cell_type": "markdown",
   "metadata": {},
   "source": [
    "Del anterior código, la variable **Unnamed: 0** se transformó en índece."
   ]
  },
  {
   "cell_type": "code",
   "execution_count": 33,
   "metadata": {},
   "outputs": [
    {
     "data": {
      "text/html": [
       "<div>\n",
       "<style scoped>\n",
       "    .dataframe tbody tr th:only-of-type {\n",
       "        vertical-align: middle;\n",
       "    }\n",
       "\n",
       "    .dataframe tbody tr th {\n",
       "        vertical-align: top;\n",
       "    }\n",
       "\n",
       "    .dataframe thead th {\n",
       "        text-align: right;\n",
       "    }\n",
       "</style>\n",
       "<table border=\"1\" class=\"dataframe\">\n",
       "  <thead>\n",
       "    <tr style=\"text-align: right;\">\n",
       "      <th></th>\n",
       "      <th>Road_55dB</th>\n",
       "      <th>Road_60dB</th>\n",
       "      <th>Railways_65dB</th>\n",
       "      <th>Industry_65dB</th>\n",
       "    </tr>\n",
       "  </thead>\n",
       "  <tbody>\n",
       "    <tr>\n",
       "      <th>count</th>\n",
       "      <td>6.600000e+01</td>\n",
       "      <td>6.600000e+01</td>\n",
       "      <td>66.000000</td>\n",
       "      <td>65.000000</td>\n",
       "    </tr>\n",
       "    <tr>\n",
       "      <th>mean</th>\n",
       "      <td>1.592288e+05</td>\n",
       "      <td>7.858788e+04</td>\n",
       "      <td>1139.393939</td>\n",
       "      <td>180.000000</td>\n",
       "    </tr>\n",
       "    <tr>\n",
       "      <th>std</th>\n",
       "      <td>4.847513e+05</td>\n",
       "      <td>2.514090e+05</td>\n",
       "      <td>4778.827625</td>\n",
       "      <td>537.993959</td>\n",
       "    </tr>\n",
       "    <tr>\n",
       "      <th>min</th>\n",
       "      <td>7.600000e+03</td>\n",
       "      <td>4.000000e+03</td>\n",
       "      <td>0.000000</td>\n",
       "      <td>0.000000</td>\n",
       "    </tr>\n",
       "    <tr>\n",
       "      <th>25%</th>\n",
       "      <td>1.895000e+04</td>\n",
       "      <td>1.007500e+04</td>\n",
       "      <td>0.000000</td>\n",
       "      <td>0.000000</td>\n",
       "    </tr>\n",
       "    <tr>\n",
       "      <th>50%</th>\n",
       "      <td>3.755000e+04</td>\n",
       "      <td>1.740000e+04</td>\n",
       "      <td>100.000000</td>\n",
       "      <td>0.000000</td>\n",
       "    </tr>\n",
       "    <tr>\n",
       "      <th>75%</th>\n",
       "      <td>7.890000e+04</td>\n",
       "      <td>3.450000e+04</td>\n",
       "      <td>400.000000</td>\n",
       "      <td>100.000000</td>\n",
       "    </tr>\n",
       "    <tr>\n",
       "      <th>max</th>\n",
       "      <td>3.108200e+06</td>\n",
       "      <td>1.469100e+06</td>\n",
       "      <td>29700.000000</td>\n",
       "      <td>4000.000000</td>\n",
       "    </tr>\n",
       "  </tbody>\n",
       "</table>\n",
       "</div>"
      ],
      "text/plain": [
       "          Road_55dB     Road_60dB  Railways_65dB  Industry_65dB\n",
       "count  6.600000e+01  6.600000e+01      66.000000      65.000000\n",
       "mean   1.592288e+05  7.858788e+04    1139.393939     180.000000\n",
       "std    4.847513e+05  2.514090e+05    4778.827625     537.993959\n",
       "min    7.600000e+03  4.000000e+03       0.000000       0.000000\n",
       "25%    1.895000e+04  1.007500e+04       0.000000       0.000000\n",
       "50%    3.755000e+04  1.740000e+04     100.000000       0.000000\n",
       "75%    7.890000e+04  3.450000e+04     400.000000     100.000000\n",
       "max    3.108200e+06  1.469100e+06   29700.000000    4000.000000"
      ]
     },
     "execution_count": 33,
     "metadata": {},
     "output_type": "execute_result"
    }
   ],
   "source": [
    "ruidoso.describe()"
   ]
  },
  {
   "cell_type": "markdown",
   "metadata": {},
   "source": [
    "Usando la función **describe** se obtiene los estadísticos de resumen para la variable **Industry_65dB** que no se pudo obtener usando la función **dfSummary** debido el valor faltante. De esta forma, se puede observar que la media de estas 4 variables numéricas es mayor a la mediana, por lo que se espera que la distribución de cada una de estas variables sea sesgada hacia la derecha como visto en los histogramas de la función **dfSummary**. También, se puede observar que la variabilidad presente en cada una de estas variables es relativamente alta. Por lo último, también se tiene el mínimo, los percentiles, y el máximo de cada una de las variables."
   ]
  },
  {
   "cell_type": "markdown",
   "metadata": {},
   "source": [
    "## b. Realice un breve análisis exploratorio para identificar la distribución de las variables usadas en la base de datos ¿será que existe relación entre las variables?"
   ]
  },
  {
   "cell_type": "code",
   "execution_count": 44,
   "metadata": {},
   "outputs": [
    {
     "data": {
      "image/png": "[encoded data removed]",
      "text/plain": [
       "<Figure size 1000x1000 with 4 Axes>"
      ]
     },
     "metadata": {},
     "output_type": "display_data"
    }
   ],
   "source": [
    "# Crear una figura y ejes utilizando subplots\n",
    "fig, axes = plt.subplots(2, 2, figsize=(10, 10))\n",
    "\n",
    "# Crear gráficos de distribución para cada variable en la cuadrícula de ejes\n",
    "sns.histplot(ruidoso['Road_55dB'], kde=True, ax=axes[0, 0])\n",
    "axes[0, 0].set_title('Road_55dB')\n",
    "\n",
    "sns.histplot(ruidoso['Road_60dB'], kde=True, ax=axes[0, 1])\n",
    "axes[0, 1].set_title('Road_60dB')\n",
    "\n",
    "sns.histplot(ruidoso['Railways_65dB'], kde=True, ax=axes[1, 0])\n",
    "axes[1, 0].set_title('Railways_65dB')\n",
    "\n",
    "sns.histplot(ruidoso['Industry_65dB'], kde=True, ax=axes[1, 1])\n",
    "axes[1, 1].set_title('Industry_65dB')\n",
    "\n",
    "plt.show()"
   ]
  },
  {
   "cell_type": "markdown",
   "metadata": {},
   "source": [
    "De las anteriores gráficas, se puede observar que la distribución de cada una de las variables tienen formas muy parecidas, especialmente entre las variables **Road_55dB** y **Road_60dB**. Por lo tanto, se puede creer que estas variables tengan algún tipo de relación, para esto, se usará gráficas y medidas de correlación."
   ]
  },
  {
   "cell_type": "code",
   "execution_count": null,
   "metadata": {},
   "outputs": [],
   "source": []
  },
  {
   "cell_type": "markdown",
   "metadata": {},
   "source": []
  },
  {
   "cell_type": "markdown",
   "metadata": {},
   "source": [
    "## c. Verifique si existen problemas de datos atípicos en cada una de las variables usando las metodologías de detección a nivel univariado."
   ]
  },
  {
   "cell_type": "code",
   "execution_count": null,
   "metadata": {},
   "outputs": [],
   "source": []
  },
  {
   "cell_type": "markdown",
   "metadata": {},
   "source": [
    "## d. ¿Se detectan valores atípicos a nivel multivariado?"
   ]
  },
  {
   "cell_type": "code",
   "execution_count": null,
   "metadata": {},
   "outputs": [],
   "source": []
  },
  {
   "cell_type": "markdown",
   "metadata": {},
   "source": [
    "## e. Para el caso univariado, escoja una variable y realice un análisis sobre las implicaciones que tiene realizar diferentes tratamientos a los datos atípicos en la distribución de la respectiva variable."
   ]
  },
  {
   "cell_type": "code",
   "execution_count": null,
   "metadata": {},
   "outputs": [],
   "source": []
  }
 ],
 "metadata": {
  "kernelspec": {
   "display_name": "base",
   "language": "python",
   "name": "python3"
  },
  "language_info": {
   "codemirror_mode": {
    "name": "ipython",
    "version": 3
   },
   "file_extension": ".py",
   "mimetype": "text/x-python",
   "name": "python",
   "nbconvert_exporter": "python",
   "pygments_lexer": "ipython3",
   "version": "3.9.13"
  }
 },
 "nbformat": 4,
 "nbformat_minor": 2
}
